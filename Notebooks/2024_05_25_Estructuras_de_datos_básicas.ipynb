{
  "nbformat": 4,
  "nbformat_minor": 0,
  "metadata": {
    "colab": {
      "provenance": []
    },
    "kernelspec": {
      "name": "python3",
      "display_name": "Python 3"
    },
    "language_info": {
      "name": "python"
    }
  },
  "cells": [
    {
      "cell_type": "code",
      "execution_count": null,
      "metadata": {
        "colab": {
          "base_uri": "https://localhost:8080/"
        },
        "id": "GUHRM7E1gD_-",
        "outputId": "a2110f32-b2e8-4057-c2db-90409212aa06"
      },
      "outputs": [
        {
          "output_type": "execute_result",
          "data": {
            "text/plain": [
              "12"
            ]
          },
          "metadata": {},
          "execution_count": 282
        }
      ],
      "source": [
        "ventas = [12, 10, 15, 16, 9, 20]\n",
        "ventas[0]"
      ]
    },
    {
      "cell_type": "code",
      "source": [
        "ventas[2]"
      ],
      "metadata": {
        "colab": {
          "base_uri": "https://localhost:8080/"
        },
        "id": "HwyW1ebGg21t",
        "outputId": "65054fcf-8b0a-4bc2-a80d-b017909dd3b7"
      },
      "execution_count": null,
      "outputs": [
        {
          "output_type": "execute_result",
          "data": {
            "text/plain": [
              "15"
            ]
          },
          "metadata": {},
          "execution_count": 283
        }
      ]
    },
    {
      "cell_type": "code",
      "source": [
        "ventas[-1]"
      ],
      "metadata": {
        "colab": {
          "base_uri": "https://localhost:8080/"
        },
        "id": "d6DyDYRFhE1p",
        "outputId": "5fdb09f9-9c06-4b24-bbf4-1a5db36e38d4"
      },
      "execution_count": null,
      "outputs": [
        {
          "output_type": "execute_result",
          "data": {
            "text/plain": [
              "20"
            ]
          },
          "metadata": {},
          "execution_count": 284
        }
      ]
    },
    {
      "cell_type": "code",
      "source": [
        "ventas[0:2]"
      ],
      "metadata": {
        "colab": {
          "base_uri": "https://localhost:8080/"
        },
        "id": "PnAQ5EEEhGtF",
        "outputId": "6b8ab891-3c1a-484c-943f-84df4d8ea94d"
      },
      "execution_count": null,
      "outputs": [
        {
          "output_type": "execute_result",
          "data": {
            "text/plain": [
              "[12, 10]"
            ]
          },
          "metadata": {},
          "execution_count": 285
        }
      ]
    },
    {
      "cell_type": "code",
      "source": [
        "ventas[:2]"
      ],
      "metadata": {
        "colab": {
          "base_uri": "https://localhost:8080/"
        },
        "id": "tsOixkfmhYRJ",
        "outputId": "a98597d1-d375-48af-f545-ca4dc99a0053"
      },
      "execution_count": null,
      "outputs": [
        {
          "output_type": "execute_result",
          "data": {
            "text/plain": [
              "[12, 10]"
            ]
          },
          "metadata": {},
          "execution_count": 286
        }
      ]
    },
    {
      "cell_type": "code",
      "source": [
        "len(ventas)"
      ],
      "metadata": {
        "colab": {
          "base_uri": "https://localhost:8080/"
        },
        "id": "q9ACJZ6LhdQM",
        "outputId": "fcbcc6d0-2649-4cce-f185-7a5b317328d9"
      },
      "execution_count": null,
      "outputs": [
        {
          "output_type": "execute_result",
          "data": {
            "text/plain": [
              "6"
            ]
          },
          "metadata": {},
          "execution_count": 287
        }
      ]
    },
    {
      "cell_type": "code",
      "source": [
        "ventas[-2:6]"
      ],
      "metadata": {
        "colab": {
          "base_uri": "https://localhost:8080/"
        },
        "id": "e1Y59QZMh-fI",
        "outputId": "4ac741c2-e859-43e1-a27c-84aa30e136f1"
      },
      "execution_count": null,
      "outputs": [
        {
          "output_type": "execute_result",
          "data": {
            "text/plain": [
              "[9, 20]"
            ]
          },
          "metadata": {},
          "execution_count": 288
        }
      ]
    },
    {
      "cell_type": "code",
      "source": [
        "ventas[-2:len(ventas)]"
      ],
      "metadata": {
        "colab": {
          "base_uri": "https://localhost:8080/"
        },
        "id": "rd3lXnH1iBxl",
        "outputId": "948bb3b7-255f-4eac-f566-134fe731fdb9"
      },
      "execution_count": null,
      "outputs": [
        {
          "output_type": "execute_result",
          "data": {
            "text/plain": [
              "[9, 20]"
            ]
          },
          "metadata": {},
          "execution_count": 289
        }
      ]
    },
    {
      "cell_type": "code",
      "source": [
        "ventas[-2:]"
      ],
      "metadata": {
        "colab": {
          "base_uri": "https://localhost:8080/"
        },
        "id": "fClnK0fTiJ6F",
        "outputId": "d4daaf3e-46e6-430d-8d29-29f97d80af10"
      },
      "execution_count": null,
      "outputs": [
        {
          "output_type": "execute_result",
          "data": {
            "text/plain": [
              "[9, 20]"
            ]
          },
          "metadata": {},
          "execution_count": 290
        }
      ]
    },
    {
      "cell_type": "code",
      "source": [
        "ventas[:]"
      ],
      "metadata": {
        "colab": {
          "base_uri": "https://localhost:8080/"
        },
        "id": "ZiFsgN3Riflr",
        "outputId": "6887d27c-6c8c-4f6e-9458-f4735f21c550"
      },
      "execution_count": null,
      "outputs": [
        {
          "output_type": "execute_result",
          "data": {
            "text/plain": [
              "[12, 10, 15, 16, 9, 20]"
            ]
          },
          "metadata": {},
          "execution_count": 291
        }
      ]
    },
    {
      "cell_type": "code",
      "source": [
        "ventas[1] = 30"
      ],
      "metadata": {
        "id": "Y4CVArkkiofd"
      },
      "execution_count": null,
      "outputs": []
    },
    {
      "cell_type": "code",
      "source": [
        "ventas"
      ],
      "metadata": {
        "colab": {
          "base_uri": "https://localhost:8080/"
        },
        "id": "ti8D2HkCiuYS",
        "outputId": "ca944dbd-a878-4eb3-f571-1d97f5bfcac1"
      },
      "execution_count": null,
      "outputs": [
        {
          "output_type": "execute_result",
          "data": {
            "text/plain": [
              "[12, 30, 15, 16, 9, 20]"
            ]
          },
          "metadata": {},
          "execution_count": 293
        }
      ]
    },
    {
      "cell_type": "code",
      "source": [
        "shallow_copy = ventas\n",
        "shallow_copy"
      ],
      "metadata": {
        "colab": {
          "base_uri": "https://localhost:8080/"
        },
        "id": "0i6TcpLvi-er",
        "outputId": "361b5b2b-252e-493f-ade1-2290ef254cf9"
      },
      "execution_count": null,
      "outputs": [
        {
          "output_type": "execute_result",
          "data": {
            "text/plain": [
              "[12, 30, 15, 16, 9, 20]"
            ]
          },
          "metadata": {},
          "execution_count": 294
        }
      ]
    },
    {
      "cell_type": "code",
      "source": [
        "deep_copy = ventas[:]\n",
        "deep_copy"
      ],
      "metadata": {
        "colab": {
          "base_uri": "https://localhost:8080/"
        },
        "id": "cQu-qlssjNz7",
        "outputId": "2341a27d-16ff-4cbd-a094-3edf56774577"
      },
      "execution_count": null,
      "outputs": [
        {
          "output_type": "execute_result",
          "data": {
            "text/plain": [
              "[12, 30, 15, 16, 9, 20]"
            ]
          },
          "metadata": {},
          "execution_count": 295
        }
      ]
    },
    {
      "cell_type": "code",
      "source": [
        "ventas[-1] = 0"
      ],
      "metadata": {
        "id": "vk-jBmqhjTTu"
      },
      "execution_count": null,
      "outputs": []
    },
    {
      "cell_type": "code",
      "source": [
        "ventas"
      ],
      "metadata": {
        "colab": {
          "base_uri": "https://localhost:8080/"
        },
        "id": "0X-gqfPzjddr",
        "outputId": "e93b80b4-1152-4664-cd30-0d656a74c602"
      },
      "execution_count": null,
      "outputs": [
        {
          "output_type": "execute_result",
          "data": {
            "text/plain": [
              "[12, 30, 15, 16, 9, 0]"
            ]
          },
          "metadata": {},
          "execution_count": 297
        }
      ]
    },
    {
      "cell_type": "code",
      "source": [
        "shallow_copy"
      ],
      "metadata": {
        "colab": {
          "base_uri": "https://localhost:8080/"
        },
        "id": "QnRtf-lJjfGw",
        "outputId": "b10698c7-b32c-416d-a012-836d8a3e3bb3"
      },
      "execution_count": null,
      "outputs": [
        {
          "output_type": "execute_result",
          "data": {
            "text/plain": [
              "[12, 30, 15, 16, 9, 0]"
            ]
          },
          "metadata": {},
          "execution_count": 298
        }
      ]
    },
    {
      "cell_type": "code",
      "source": [
        "deep_copy"
      ],
      "metadata": {
        "colab": {
          "base_uri": "https://localhost:8080/"
        },
        "id": "X_4jPAHijiX6",
        "outputId": "9b09f162-8032-4818-ffe2-2606d832de02"
      },
      "execution_count": null,
      "outputs": [
        {
          "output_type": "execute_result",
          "data": {
            "text/plain": [
              "[12, 30, 15, 16, 9, 20]"
            ]
          },
          "metadata": {},
          "execution_count": 299
        }
      ]
    },
    {
      "cell_type": "code",
      "source": [
        "l1 = [ [1,2], [3,4]]\n",
        "l2 = l1"
      ],
      "metadata": {
        "id": "XOXy4ldxjmIE"
      },
      "execution_count": null,
      "outputs": []
    },
    {
      "cell_type": "code",
      "source": [
        "l3 = l1[:]\n",
        "l3"
      ],
      "metadata": {
        "colab": {
          "base_uri": "https://localhost:8080/"
        },
        "id": "4ZyTDigWmeRZ",
        "outputId": "78032f3c-36da-46e0-ea6d-27b9b000f03a"
      },
      "execution_count": null,
      "outputs": [
        {
          "output_type": "execute_result",
          "data": {
            "text/plain": [
              "[[1, 2], [3, 4]]"
            ]
          },
          "metadata": {},
          "execution_count": 301
        }
      ]
    },
    {
      "cell_type": "code",
      "source": [
        "l1[0] = [5,6]\n",
        "l1"
      ],
      "metadata": {
        "colab": {
          "base_uri": "https://localhost:8080/"
        },
        "id": "VR3UhZiimnvQ",
        "outputId": "87765363-f729-4f46-d068-3cd4fad50c1f"
      },
      "execution_count": null,
      "outputs": [
        {
          "output_type": "execute_result",
          "data": {
            "text/plain": [
              "[[5, 6], [3, 4]]"
            ]
          },
          "metadata": {},
          "execution_count": 302
        }
      ]
    },
    {
      "cell_type": "code",
      "source": [
        "l2"
      ],
      "metadata": {
        "colab": {
          "base_uri": "https://localhost:8080/"
        },
        "id": "3zawHV60mtPZ",
        "outputId": "846ecaa6-a6f4-47ee-bc12-5b70f92150ce"
      },
      "execution_count": null,
      "outputs": [
        {
          "output_type": "execute_result",
          "data": {
            "text/plain": [
              "[[5, 6], [3, 4]]"
            ]
          },
          "metadata": {},
          "execution_count": 303
        }
      ]
    },
    {
      "cell_type": "code",
      "source": [
        "l3"
      ],
      "metadata": {
        "colab": {
          "base_uri": "https://localhost:8080/"
        },
        "id": "yRy-2oh_muOv",
        "outputId": "d654f706-0b6a-48d5-dafb-1b4960408ff3"
      },
      "execution_count": null,
      "outputs": [
        {
          "output_type": "execute_result",
          "data": {
            "text/plain": [
              "[[1, 2], [3, 4]]"
            ]
          },
          "metadata": {},
          "execution_count": 304
        }
      ]
    },
    {
      "cell_type": "code",
      "source": [
        "s1 = [1,2]\n",
        "s2 = [ 3,4]\n",
        "s3 = [s1, s2]\n",
        "s3"
      ],
      "metadata": {
        "colab": {
          "base_uri": "https://localhost:8080/"
        },
        "id": "AydaP6KJmu06",
        "outputId": "cb55a9a0-2acd-438a-fc7d-c3a11468cdca"
      },
      "execution_count": null,
      "outputs": [
        {
          "output_type": "execute_result",
          "data": {
            "text/plain": [
              "[[1, 2], [3, 4]]"
            ]
          },
          "metadata": {},
          "execution_count": 305
        }
      ]
    },
    {
      "cell_type": "code",
      "source": [
        "s4 = s3[:]\n",
        "s4"
      ],
      "metadata": {
        "colab": {
          "base_uri": "https://localhost:8080/"
        },
        "id": "of71xE2mm3aw",
        "outputId": "90901885-c315-43dc-fc3e-72447ff0debf"
      },
      "execution_count": null,
      "outputs": [
        {
          "output_type": "execute_result",
          "data": {
            "text/plain": [
              "[[1, 2], [3, 4]]"
            ]
          },
          "metadata": {},
          "execution_count": 306
        }
      ]
    },
    {
      "cell_type": "code",
      "source": [
        "s3[0] = [5,6]\n",
        "s3"
      ],
      "metadata": {
        "colab": {
          "base_uri": "https://localhost:8080/"
        },
        "id": "RdHfi0iPm7MQ",
        "outputId": "0bd578b3-7f1f-41e6-8eba-0d78db581b93"
      },
      "execution_count": null,
      "outputs": [
        {
          "output_type": "execute_result",
          "data": {
            "text/plain": [
              "[[5, 6], [3, 4]]"
            ]
          },
          "metadata": {},
          "execution_count": 307
        }
      ]
    },
    {
      "cell_type": "code",
      "source": [
        "s4"
      ],
      "metadata": {
        "colab": {
          "base_uri": "https://localhost:8080/"
        },
        "id": "yF63uWgSnCJP",
        "outputId": "9d4f74f6-f79f-4a94-e67e-068ddd485c4b"
      },
      "execution_count": null,
      "outputs": [
        {
          "output_type": "execute_result",
          "data": {
            "text/plain": [
              "[[1, 2], [3, 4]]"
            ]
          },
          "metadata": {},
          "execution_count": 308
        }
      ]
    },
    {
      "cell_type": "code",
      "source": [
        "s1[0] = 7\n",
        "s1"
      ],
      "metadata": {
        "colab": {
          "base_uri": "https://localhost:8080/"
        },
        "id": "N4qxvDWQnDNH",
        "outputId": "2ae5cb85-4c25-453f-b103-8dfb177647fd"
      },
      "execution_count": null,
      "outputs": [
        {
          "output_type": "execute_result",
          "data": {
            "text/plain": [
              "[7, 2]"
            ]
          },
          "metadata": {},
          "execution_count": 309
        }
      ]
    },
    {
      "cell_type": "code",
      "source": [
        "s3"
      ],
      "metadata": {
        "colab": {
          "base_uri": "https://localhost:8080/"
        },
        "id": "PZtKpMcpnLrm",
        "outputId": "6305928e-c0bc-483b-e7b8-1d0666eceb48"
      },
      "execution_count": null,
      "outputs": [
        {
          "output_type": "execute_result",
          "data": {
            "text/plain": [
              "[[5, 6], [3, 4]]"
            ]
          },
          "metadata": {},
          "execution_count": 310
        }
      ]
    },
    {
      "cell_type": "code",
      "source": [
        "s4"
      ],
      "metadata": {
        "colab": {
          "base_uri": "https://localhost:8080/"
        },
        "id": "FnT-gORznM0U",
        "outputId": "969f7823-aa3d-4ec6-cda4-f076357a7331"
      },
      "execution_count": null,
      "outputs": [
        {
          "output_type": "execute_result",
          "data": {
            "text/plain": [
              "[[7, 2], [3, 4]]"
            ]
          },
          "metadata": {},
          "execution_count": 311
        }
      ]
    },
    {
      "cell_type": "code",
      "source": [
        "ventas_mensuales = (25800, 23500, 28200, 31700, 34900, 36500, 32100, 29800, 27400, 26900, 28800, 35700)\n",
        "ventas_mensuales[-1]"
      ],
      "metadata": {
        "colab": {
          "base_uri": "https://localhost:8080/"
        },
        "id": "og0CeHvRnOd3",
        "outputId": "ad99b34d-c313-4daa-91af-741c6ec81ef5"
      },
      "execution_count": null,
      "outputs": [
        {
          "output_type": "execute_result",
          "data": {
            "text/plain": [
              "35700"
            ]
          },
          "metadata": {},
          "execution_count": 312
        }
      ]
    },
    {
      "cell_type": "code",
      "source": [
        "try:\n",
        "  ventas_mensuales[-1] = 36000\n",
        "except:\n",
        "  print(\"Las tuplas son inmutables (hasta cierto punto)\")"
      ],
      "metadata": {
        "colab": {
          "base_uri": "https://localhost:8080/"
        },
        "id": "Vm811CKaprKd",
        "outputId": "fab1a53b-fbdb-45a0-e968-1b5ea021fa37"
      },
      "execution_count": null,
      "outputs": [
        {
          "output_type": "stream",
          "name": "stdout",
          "text": [
            "Las tuplas son inmutables (hasta cierto punto)\n"
          ]
        }
      ]
    },
    {
      "cell_type": "code",
      "source": [
        "l = [1,2]\n",
        "\n",
        "def f(x):\n",
        "  a = l[0]\n",
        "  b = l[1]\n",
        "  return x,a,b\n",
        "\n",
        "y = f(l)\n",
        "print(l , type(l))\n",
        "print(y, type(f(l)))"
      ],
      "metadata": {
        "colab": {
          "base_uri": "https://localhost:8080/"
        },
        "id": "8dP35dCapy18",
        "outputId": "a8ddd5de-b6c0-4ff1-a091-4f42f8004091"
      },
      "execution_count": null,
      "outputs": [
        {
          "output_type": "stream",
          "name": "stdout",
          "text": [
            "[1, 2] <class 'list'>\n",
            "([1, 2], 1, 2) <class 'tuple'>\n"
          ]
        }
      ]
    },
    {
      "cell_type": "code",
      "source": [
        "l[0] = 3\n",
        "l, f(l), y"
      ],
      "metadata": {
        "colab": {
          "base_uri": "https://localhost:8080/"
        },
        "id": "1LYXbbRrqdBy",
        "outputId": "c50d0b67-8c44-4d6f-a6b4-b33d02bf4753"
      },
      "execution_count": null,
      "outputs": [
        {
          "output_type": "execute_result",
          "data": {
            "text/plain": [
              "([3, 2], ([3, 2], 3, 2), ([3, 2], 1, 2))"
            ]
          },
          "metadata": {},
          "execution_count": 315
        }
      ]
    },
    {
      "cell_type": "code",
      "source": [
        "y"
      ],
      "metadata": {
        "colab": {
          "base_uri": "https://localhost:8080/"
        },
        "id": "t9M-dxXLrYsi",
        "outputId": "8620e144-ec27-458b-eb5b-caa40d6e6b54"
      },
      "execution_count": null,
      "outputs": [
        {
          "output_type": "execute_result",
          "data": {
            "text/plain": [
              "([3, 2], 1, 2)"
            ]
          },
          "metadata": {},
          "execution_count": 316
        }
      ]
    },
    {
      "cell_type": "code",
      "source": [
        "y[0][0] = 4\n",
        "y[0][1] = 5\n",
        "y"
      ],
      "metadata": {
        "colab": {
          "base_uri": "https://localhost:8080/"
        },
        "id": "Tu02WDqbrkJ1",
        "outputId": "76240ed1-bbf0-4766-cabb-98261f74d2d3"
      },
      "execution_count": null,
      "outputs": [
        {
          "output_type": "execute_result",
          "data": {
            "text/plain": [
              "([4, 5], 1, 2)"
            ]
          },
          "metadata": {},
          "execution_count": 317
        }
      ]
    },
    {
      "cell_type": "code",
      "source": [
        "ventas_mensuales_lista = list(ventas_mensuales)\n",
        "ventas_mensuales_lista"
      ],
      "metadata": {
        "colab": {
          "base_uri": "https://localhost:8080/"
        },
        "id": "ghC2ekf7rwkE",
        "outputId": "20758c73-50a8-44ab-f00d-8d0549dd6c1d"
      },
      "execution_count": null,
      "outputs": [
        {
          "output_type": "execute_result",
          "data": {
            "text/plain": [
              "[25800,\n",
              " 23500,\n",
              " 28200,\n",
              " 31700,\n",
              " 34900,\n",
              " 36500,\n",
              " 32100,\n",
              " 29800,\n",
              " 27400,\n",
              " 26900,\n",
              " 28800,\n",
              " 35700]"
            ]
          },
          "metadata": {},
          "execution_count": 318
        }
      ]
    },
    {
      "cell_type": "code",
      "source": [
        "for indice in [0,1,2,3,4,5,6,7,8,9,10,11]:\n",
        "  # updated_value = f(current_value)\n",
        "  ventas_mensuales_lista[indice] = ventas_mensuales_lista[indice] - 1000\n",
        "\n",
        "ventas_mensuales_lista"
      ],
      "metadata": {
        "colab": {
          "base_uri": "https://localhost:8080/"
        },
        "id": "NmwtggV5t4-J",
        "outputId": "db14a453-ed19-4e7b-a369-99e77347628d"
      },
      "execution_count": null,
      "outputs": [
        {
          "output_type": "execute_result",
          "data": {
            "text/plain": [
              "[24800,\n",
              " 22500,\n",
              " 27200,\n",
              " 30700,\n",
              " 33900,\n",
              " 35500,\n",
              " 31100,\n",
              " 28800,\n",
              " 26400,\n",
              " 25900,\n",
              " 27800,\n",
              " 34700]"
            ]
          },
          "metadata": {},
          "execution_count": 319
        }
      ]
    },
    {
      "cell_type": "code",
      "source": [
        "range(0,11+1)"
      ],
      "metadata": {
        "colab": {
          "base_uri": "https://localhost:8080/"
        },
        "id": "izB7656VuaeD",
        "outputId": "06f397fd-461f-4b76-b4e1-a622e92dc7a3"
      },
      "execution_count": null,
      "outputs": [
        {
          "output_type": "execute_result",
          "data": {
            "text/plain": [
              "range(0, 12)"
            ]
          },
          "metadata": {},
          "execution_count": 320
        }
      ]
    },
    {
      "cell_type": "code",
      "source": [
        "list(range(0,11+1))"
      ],
      "metadata": {
        "colab": {
          "base_uri": "https://localhost:8080/"
        },
        "id": "YSKCgs8FwPRJ",
        "outputId": "8ac2ac9a-e29d-4c09-ec97-c2efe39022f4"
      },
      "execution_count": null,
      "outputs": [
        {
          "output_type": "execute_result",
          "data": {
            "text/plain": [
              "[0, 1, 2, 3, 4, 5, 6, 7, 8, 9, 10, 11]"
            ]
          },
          "metadata": {},
          "execution_count": 321
        }
      ]
    },
    {
      "cell_type": "code",
      "source": [
        "type(range(0,11+1))"
      ],
      "metadata": {
        "colab": {
          "base_uri": "https://localhost:8080/"
        },
        "id": "Yjii4dmCwTlA",
        "outputId": "ad611801-275d-4a40-839e-dfede8d7decc"
      },
      "execution_count": null,
      "outputs": [
        {
          "output_type": "execute_result",
          "data": {
            "text/plain": [
              "range"
            ]
          },
          "metadata": {},
          "execution_count": 322
        }
      ]
    },
    {
      "cell_type": "code",
      "source": [
        "tuple(range(0,11+1))"
      ],
      "metadata": {
        "colab": {
          "base_uri": "https://localhost:8080/"
        },
        "id": "iGleO2UVwfVg",
        "outputId": "8c13addd-e5d7-456e-d328-ddaffe86ac51"
      },
      "execution_count": null,
      "outputs": [
        {
          "output_type": "execute_result",
          "data": {
            "text/plain": [
              "(0, 1, 2, 3, 4, 5, 6, 7, 8, 9, 10, 11)"
            ]
          },
          "metadata": {},
          "execution_count": 323
        }
      ]
    },
    {
      "cell_type": "code",
      "source": [
        "for indice in list(range(0,12)):\n",
        "  # updated_value = f(current_value)\n",
        "  ventas_mensuales_lista[indice] = ventas_mensuales_lista[indice] - 1000\n",
        "\n",
        "ventas_mensuales_lista"
      ],
      "metadata": {
        "colab": {
          "base_uri": "https://localhost:8080/"
        },
        "id": "YKWJoUyYxKNv",
        "outputId": "214f5594-1e89-421e-cbaa-80be6772cbe1"
      },
      "execution_count": null,
      "outputs": [
        {
          "output_type": "execute_result",
          "data": {
            "text/plain": [
              "[23800,\n",
              " 21500,\n",
              " 26200,\n",
              " 29700,\n",
              " 32900,\n",
              " 34500,\n",
              " 30100,\n",
              " 27800,\n",
              " 25400,\n",
              " 24900,\n",
              " 26800,\n",
              " 33700]"
            ]
          },
          "metadata": {},
          "execution_count": 324
        }
      ]
    },
    {
      "cell_type": "code",
      "source": [
        "for indice in range(0,12):\n",
        "  ventas_mensuales_lista[indice] = ventas_mensuales_lista[indice] - 1000\n",
        "\n",
        "ventas_mensuales_lista"
      ],
      "metadata": {
        "colab": {
          "base_uri": "https://localhost:8080/"
        },
        "id": "1xO96pY6xQMv",
        "outputId": "38509ecd-83d8-4067-9541-cca9cf55f77f"
      },
      "execution_count": null,
      "outputs": [
        {
          "output_type": "execute_result",
          "data": {
            "text/plain": [
              "[22800,\n",
              " 20500,\n",
              " 25200,\n",
              " 28700,\n",
              " 31900,\n",
              " 33500,\n",
              " 29100,\n",
              " 26800,\n",
              " 24400,\n",
              " 23900,\n",
              " 25800,\n",
              " 32700]"
            ]
          },
          "metadata": {},
          "execution_count": 325
        }
      ]
    },
    {
      "cell_type": "code",
      "source": [
        "list(range(12))"
      ],
      "metadata": {
        "colab": {
          "base_uri": "https://localhost:8080/"
        },
        "id": "2vJ3NUYlxrDQ",
        "outputId": "c59da4db-6df1-46c1-ee66-9ec61cce209b"
      },
      "execution_count": null,
      "outputs": [
        {
          "output_type": "execute_result",
          "data": {
            "text/plain": [
              "[0, 1, 2, 3, 4, 5, 6, 7, 8, 9, 10, 11]"
            ]
          },
          "metadata": {},
          "execution_count": 326
        }
      ]
    },
    {
      "cell_type": "code",
      "source": [
        "for indice in range(12):\n",
        "  ventas_mensuales_lista[indice] = ventas_mensuales_lista[indice] - 1000\n",
        "\n",
        "ventas_mensuales_lista"
      ],
      "metadata": {
        "colab": {
          "base_uri": "https://localhost:8080/"
        },
        "id": "JWrhoG1ixuzR",
        "outputId": "9f525989-e733-4bd3-dd2a-db44033fa30d"
      },
      "execution_count": null,
      "outputs": [
        {
          "output_type": "execute_result",
          "data": {
            "text/plain": [
              "[21800,\n",
              " 19500,\n",
              " 24200,\n",
              " 27700,\n",
              " 30900,\n",
              " 32500,\n",
              " 28100,\n",
              " 25800,\n",
              " 23400,\n",
              " 22900,\n",
              " 24800,\n",
              " 31700]"
            ]
          },
          "metadata": {},
          "execution_count": 327
        }
      ]
    },
    {
      "cell_type": "code",
      "source": [
        "len(ventas_mensuales_lista)"
      ],
      "metadata": {
        "colab": {
          "base_uri": "https://localhost:8080/"
        },
        "id": "gdYxJmslx53_",
        "outputId": "b2af2d6f-f092-40e6-9125-73df51915d5b"
      },
      "execution_count": null,
      "outputs": [
        {
          "output_type": "execute_result",
          "data": {
            "text/plain": [
              "12"
            ]
          },
          "metadata": {},
          "execution_count": 328
        }
      ]
    },
    {
      "cell_type": "code",
      "source": [
        "for index in range(len(ventas_mensuales_lista)):\n",
        "  ventas_mensuales_lista[index] = ventas_mensuales_lista[index] - 1000\n",
        "\n",
        "ventas_mensuales_lista"
      ],
      "metadata": {
        "colab": {
          "base_uri": "https://localhost:8080/"
        },
        "id": "KffjaSXByawe",
        "outputId": "32b24a4b-6e3f-4802-edf8-2a65ec4762c2"
      },
      "execution_count": null,
      "outputs": [
        {
          "output_type": "execute_result",
          "data": {
            "text/plain": [
              "[20800,\n",
              " 18500,\n",
              " 23200,\n",
              " 26700,\n",
              " 29900,\n",
              " 31500,\n",
              " 27100,\n",
              " 24800,\n",
              " 22400,\n",
              " 21900,\n",
              " 23800,\n",
              " 30700]"
            ]
          },
          "metadata": {},
          "execution_count": 329
        }
      ]
    },
    {
      "cell_type": "code",
      "source": [
        "ventas_mensuales_lista = list(ventas_mensuales)"
      ],
      "metadata": {
        "id": "xkONMQLvyfvY"
      },
      "execution_count": null,
      "outputs": []
    },
    {
      "cell_type": "code",
      "source": [
        "tasa = 26/100\n",
        "\n",
        "for venta_mensual in ventas_mensuales_lista:\n",
        "  impuesto_mensual = venta_mensual * tasa\n",
        "  print(impuesto_mensual)"
      ],
      "metadata": {
        "colab": {
          "base_uri": "https://localhost:8080/"
        },
        "id": "JPaTsaIUzmLv",
        "outputId": "de78a787-2b0e-4414-f538-02a2d94a0eca"
      },
      "execution_count": null,
      "outputs": [
        {
          "output_type": "stream",
          "name": "stdout",
          "text": [
            "6708.0\n",
            "6110.0\n",
            "7332.0\n",
            "8242.0\n",
            "9074.0\n",
            "9490.0\n",
            "8346.0\n",
            "7748.0\n",
            "7124.0\n",
            "6994.0\n",
            "7488.0\n",
            "9282.0\n"
          ]
        }
      ]
    },
    {
      "cell_type": "code",
      "source": [
        "tasa = 26/100\n",
        "\n",
        "impuesto_anual = 0\n",
        "\n",
        "for venta_mensual in ventas_mensuales_lista:\n",
        "  impuesto_mensual = venta_mensual * tasa\n",
        "  impuesto_anual = impuesto_anual + impuesto_mensual\n",
        "\n",
        "print(impuesto_anual)"
      ],
      "metadata": {
        "colab": {
          "base_uri": "https://localhost:8080/"
        },
        "id": "U6o6qHM6z1yG",
        "outputId": "fc3b9e3e-339f-494e-a784-7d360eb1880e"
      },
      "execution_count": null,
      "outputs": [
        {
          "output_type": "stream",
          "name": "stdout",
          "text": [
            "93938.0\n"
          ]
        }
      ]
    },
    {
      "cell_type": "code",
      "source": [
        "tasa = 26/100\n",
        "\n",
        "impuestos_mensuales = []\n",
        "\n",
        "for venta_mensual in ventas_mensuales_lista:\n",
        "  impuesto_mensual = venta_mensual * tasa\n",
        "  # append anexa un valor al final de la lista\n",
        "  impuestos_mensuales.append(impuesto_mensual)\n",
        "\n",
        "print(impuestos_mensuales)"
      ],
      "metadata": {
        "colab": {
          "base_uri": "https://localhost:8080/"
        },
        "id": "iII1HxoW0xi8",
        "outputId": "785021c1-c384-4110-a092-2e72fbfd7c6d"
      },
      "execution_count": null,
      "outputs": [
        {
          "output_type": "stream",
          "name": "stdout",
          "text": [
            "[6708.0, 6110.0, 7332.0, 8242.0, 9074.0, 9490.0, 8346.0, 7748.0, 7124.0, 6994.0, 7488.0, 9282.0]\n"
          ]
        }
      ]
    },
    {
      "cell_type": "code",
      "source": [
        "impuesto_anual = 0\n",
        "\n",
        "for impuesto_mensual in impuestos_mensuales:\n",
        "  impuesto_mensual = impuesto_anual + impuesto_mensual\n",
        "\n",
        "print(impuesto_anual)"
      ],
      "metadata": {
        "colab": {
          "base_uri": "https://localhost:8080/"
        },
        "id": "u7Sn37Kc2Frz",
        "outputId": "28e5f111-75a8-4388-f566-85a78e96833b"
      },
      "execution_count": null,
      "outputs": [
        {
          "output_type": "stream",
          "name": "stdout",
          "text": [
            "0\n"
          ]
        }
      ]
    },
    {
      "cell_type": "code",
      "source": [
        "def calcula_impuesto_mensual(ventas_mensuales_lista, tasa):\n",
        "  impuestos_mensuales = []\n",
        "\n",
        "  for venta_mensual in ventas_mensuales_lista:\n",
        "    impuesto_mensual = venta_mensual * tasa\n",
        "    # append anexa un valor al final de la lista\n",
        "    impuestos_mensuales.append(impuesto_mensual)\n",
        "\n",
        "  return impuestos_mensuales\n"
      ],
      "metadata": {
        "id": "E8r-T8dm2oq5"
      },
      "execution_count": null,
      "outputs": []
    },
    {
      "cell_type": "code",
      "source": [
        "calcula_impuesto_mensual([100, 200, 300], 16/100)"
      ],
      "metadata": {
        "colab": {
          "base_uri": "https://localhost:8080/"
        },
        "id": "lM0nkl8W3Bd9",
        "outputId": "642f053f-d802-458c-d43d-d35b31c643bd"
      },
      "execution_count": null,
      "outputs": [
        {
          "output_type": "execute_result",
          "data": {
            "text/plain": [
              "[16.0, 32.0, 48.0]"
            ]
          },
          "metadata": {},
          "execution_count": 336
        }
      ]
    },
    {
      "cell_type": "code",
      "source": [
        "impuesto_mensual = sum(calcula_impuesto_mensual([100, 200, 300], 16/100))\n",
        "impuesto_mensual"
      ],
      "metadata": {
        "colab": {
          "base_uri": "https://localhost:8080/"
        },
        "id": "kWwVGtVX3GX7",
        "outputId": "fb413daf-1b27-4b0d-b6a7-caa40157cdda"
      },
      "execution_count": null,
      "outputs": [
        {
          "output_type": "execute_result",
          "data": {
            "text/plain": [
              "96.0"
            ]
          },
          "metadata": {},
          "execution_count": 337
        }
      ]
    },
    {
      "cell_type": "code",
      "source": [
        "#Definición de una tupla\n",
        "tup=(10,20,30,40,50)\n",
        "#Convierto la tupla en una lista\n",
        "tlist=list(tup)\n",
        "#Creo una función que multiplique o divida, con un for que recorra objetos y no subíndices\n",
        "\n",
        "def multdiv(arreglo,numero):\n",
        "  resultadomultdiv=[]\n",
        "\n",
        "  for elemento in arreglo:\n",
        "    resultadomultdiv.append(elemento*numero)\n",
        "    # print(resultadomultdiv)\n",
        "\n",
        "  return resultadomultdiv, sum(resultadomultdiv)\n",
        "\n",
        "r = multdiv(tlist, 10)"
      ],
      "metadata": {
        "id": "xgTYKyMF-gOa"
      },
      "execution_count": null,
      "outputs": []
    },
    {
      "cell_type": "code",
      "source": [
        "r[0]"
      ],
      "metadata": {
        "colab": {
          "base_uri": "https://localhost:8080/"
        },
        "id": "YNfyvwPp-Hqt",
        "outputId": "f5c7acdb-edfd-41a1-f63f-d00ad76b302a"
      },
      "execution_count": null,
      "outputs": [
        {
          "output_type": "execute_result",
          "data": {
            "text/plain": [
              "1500"
            ]
          },
          "metadata": {},
          "execution_count": 339
        }
      ]
    },
    {
      "cell_type": "code",
      "source": [
        "r[1]"
      ],
      "metadata": {
        "colab": {
          "base_uri": "https://localhost:8080/"
        },
        "id": "hlfIKPKC-JLn",
        "outputId": "915f8173-565f-4dc6-f11c-e79636630222"
      },
      "execution_count": null,
      "outputs": [
        {
          "output_type": "execute_result",
          "data": {
            "text/plain": [
              "1500"
            ]
          },
          "metadata": {},
          "execution_count": 341
        }
      ]
    },
    {
      "cell_type": "code",
      "source": [
        "x = 1"
      ],
      "metadata": {
        "id": "vxENc1gS-qKk"
      },
      "execution_count": null,
      "outputs": []
    },
    {
      "cell_type": "code",
      "source": [],
      "metadata": {
        "id": "Y4Yg9dDE_VfG"
      },
      "execution_count": null,
      "outputs": []
    }
  ]
}