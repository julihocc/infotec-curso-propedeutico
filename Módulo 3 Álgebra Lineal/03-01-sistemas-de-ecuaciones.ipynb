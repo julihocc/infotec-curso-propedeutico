{
 "cells": [
  {
   "cell_type": "markdown",
   "metadata": {},
   "source": [
    "# Sistemas de ecuaciones lineales\n",
    "## Una introducción al álgebra lineal\n",
    "\n",
    "En este notebook vamos a ver cómo resolver sistemas de ecuaciones lineales. Un sistema de ecuaciones lineales es un conjunto de ecuaciones de la forma:\n",
    "\n",
    "$$\n",
    "\\begin{align*}\n",
    "a_{11}x_1 + a_{12}x_2 + \\ldots + a_{1n}x_n &= b_1 \\\\\n",
    "a_{21}x_1 + a_{22}x_2 + \\ldots + a_{2n}x_n &= b_2 \\\\\n",
    "\\vdots \\\\\n",
    "a_{m1}x_1 + a_{m2}x_2 + \\ldots + a_{mn}x_n &= b_m \\\\\n",
    "\\end{align*}\n",
    "$$\n",
    "\n",
    "Donde $a_{ij}$ son los coeficientes de las incógnitas $x_i$, $b_i$ son los términos independientes y $m$ y $n$ son los números de ecuaciones e incógnitas, respectivamente.\n",
    "\n",
    "En notación matricial, el sistema anterior se puede escribir como:\n",
    "\n",
    "$$\n",
    "\\begin{bmatrix}\n",
    "a_{11} & a_{12} & \\ldots & a_{1n} \\\\\n",
    "a_{21} & a_{22} & \\ldots & a_{2n} \\\\\n",
    "\\vdots & \\vdots & \\ddots & \\vdots \\\\\n",
    "a_{m1} & a_{m2} & \\ldots & a_{mn} \\\\\n",
    "\\end{bmatrix}\n",
    "\\begin{bmatrix}\n",
    "x_1 \\\\\n",
    "x_2 \\\\\n",
    "\\vdots \\\\\n",
    "x_n \\\\\n",
    "\\end{bmatrix}\n",
    "=\n",
    "\\begin{bmatrix}\n",
    "b_1 \\\\\n",
    "b_2 \\\\\n",
    "\\vdots \\\\\n",
    "b_m \\\\\n",
    "\\end{bmatrix}\n",
    "$$\n",
    "\n",
    "O simplemente $Ax = b$, donde $A$ es la matriz de coeficientes, $x$ es el vector de incógnitas y $b$ es el vector de términos independientes.\n",
    "\n",
    "En este notebook vamos a ver cómo resolver sistemas de ecuaciones lineales de la forma $Ax = b$ utilizando la función `solve` de la librería `numpy`.\n",
    "\n",
    "### Referencia \n",
    "\n",
    "Para una introducción más detallada sobre álgebra lineal, se recomienda el tutorial [Esencia del Álgebra Lineal - YouTube](https://www.youtube.com/playlist?list=PLIb_io8a5NB2DddFf-PwvZDCOUNT1GZoA)\n",
    "\n",
    "<iframe width=\"560\" height=\"315\" src=\"https://www.youtube.com/embed/videoseries?si=Oth94Jv53XIg7PDy&amp;list=PLIb_io8a5NB2DddFf-PwvZDCOUNT1GZoA\" title=\"YouTube video player\" frameborder=\"0\" allow=\"accelerometer; autoplay; clipboard-write; encrypted-media; gyroscope; picture-in-picture; web-share\" referrerpolicy=\"strict-origin-when-cross-origin\" allowfullscreen></iframe>\n"
   ]
  },
  {
   "cell_type": "markdown",
   "metadata": {},
   "source": [
    "## Operaciones matriciales\n",
    "\n",
    "Para trabajar con matrices y vectores en Python, utilizaremos la librería `numpy`. A continuación, se muestra cómo definir matrices y vectores en `numpy`:"
   ]
  },
  {
   "cell_type": "code",
   "execution_count": 58,
   "metadata": {
    "ExecuteTime": {
     "end_time": "2023-11-04T01:55:11.767243600Z",
     "start_time": "2023-11-04T01:55:11.662239900Z"
    },
    "collapsed": true
   },
   "outputs": [],
   "source": [
    "import numpy as np"
   ]
  },
  {
   "cell_type": "code",
   "execution_count": 59,
   "metadata": {
    "ExecuteTime": {
     "end_time": "2023-11-04T01:55:11.777777800Z",
     "start_time": "2023-11-04T01:55:11.767243600Z"
    },
    "collapsed": false
   },
   "outputs": [
    {
     "data": {
      "text/plain": [
       "array([[1, 2, 3],\n",
       "       [4, 5, 6],\n",
       "       [7, 8, 9]])"
      ]
     },
     "execution_count": 59,
     "metadata": {},
     "output_type": "execute_result"
    }
   ],
   "source": [
    "# Creación de matrices\n",
    "matrix1 = np.array([[1,2,3],[4,5,6],[7,8,9]])\n",
    "matrix1"
   ]
  },
  {
   "cell_type": "code",
   "execution_count": 60,
   "metadata": {
    "ExecuteTime": {
     "end_time": "2023-11-04T01:55:11.781297400Z",
     "start_time": "2023-11-04T01:55:11.775915100Z"
    },
    "collapsed": false
   },
   "outputs": [
    {
     "data": {
      "text/plain": [
       "numpy.ndarray"
      ]
     },
     "execution_count": 60,
     "metadata": {},
     "output_type": "execute_result"
    }
   ],
   "source": [
    "type(matrix1)"
   ]
  },
  {
   "cell_type": "code",
   "execution_count": 61,
   "metadata": {
    "ExecuteTime": {
     "end_time": "2023-11-04T01:55:11.791789300Z",
     "start_time": "2023-11-04T01:55:11.781297400Z"
    },
    "collapsed": false
   },
   "outputs": [
    {
     "data": {
      "text/plain": [
       "matrix([[1, 2, 3],\n",
       "        [4, 5, 6],\n",
       "        [7, 8, 9]])"
      ]
     },
     "execution_count": 61,
     "metadata": {},
     "output_type": "execute_result"
    }
   ],
   "source": [
    "# Otra forma de crear matrices\n",
    "matrix2 = np.matrix([[1,2,3],[4,5,6],[7,8,9]])\n",
    "matrix2"
   ]
  },
  {
   "cell_type": "code",
   "execution_count": 62,
   "metadata": {
    "ExecuteTime": {
     "end_time": "2023-11-04T01:55:11.849173700Z",
     "start_time": "2023-11-04T01:55:11.786615100Z"
    },
    "collapsed": false
   },
   "outputs": [
    {
     "data": {
      "text/plain": [
       "numpy.matrix"
      ]
     },
     "execution_count": 62,
     "metadata": {},
     "output_type": "execute_result"
    }
   ],
   "source": [
    "type(matrix2)"
   ]
  },
  {
   "cell_type": "markdown",
   "metadata": {},
   "source": [
    "### Multiplicación de matrices\t\n",
    "\n",
    "Sean $A= \\begin{pmatrix} a_{i,j} \\end{pmatrix} $ y $B=\\begin{pmatrix}b_{i,j}\\end{pmatrix}$ dos matrices de tamaño $m \\times n$ y $n \\times p$, respectivamente. Entonces, el producto de A y B es una matriz de tamaño $m \\times p$ cuyos elementos son:\n",
    "\n",
    "$$\n",
    "c_{ij} = \\sum_{k=1}^{n} a_{i,k}b_{k,j}\n",
    "$$\n"
   ]
  },
  {
   "cell_type": "code",
   "execution_count": 63,
   "metadata": {
    "ExecuteTime": {
     "end_time": "2023-11-04T01:55:11.852326400Z",
     "start_time": "2023-11-04T01:55:11.793800900Z"
    },
    "collapsed": false
   },
   "outputs": [
    {
     "data": {
      "text/plain": [
       "array([[19, 22],\n",
       "       [43, 50]])"
      ]
     },
     "execution_count": 63,
     "metadata": {},
     "output_type": "execute_result"
    }
   ],
   "source": [
    "# Multiplicación matricial\n",
    "A = np.array([[1,2],[3,4]])\n",
    "B = np.array([[5,6],[7,8]])\n",
    "A@B\n"
   ]
  },
  {
   "cell_type": "code",
   "execution_count": 64,
   "metadata": {
    "ExecuteTime": {
     "end_time": "2023-11-04T01:55:11.853326500Z",
     "start_time": "2023-11-04T01:55:11.822584400Z"
    },
    "collapsed": false
   },
   "outputs": [
    {
     "data": {
      "text/plain": [
       "1"
      ]
     },
     "execution_count": 64,
     "metadata": {},
     "output_type": "execute_result"
    }
   ],
   "source": [
    "# Acceso a los elementos de una matriz\n",
    "A[0,0]\n"
   ]
  },
  {
   "cell_type": "markdown",
   "metadata": {},
   "source": [
    "También existe una multiplicación de matrices, elemento a elemento. En este caso, las dimensiones de $A$ y $B$ deben ser iguales. El resultado es una matriz $C$ de las mismas dimensiones que $A$ y $B$, cuyos elementos son:\n",
    "\n",
    "$$\n",
    "c_{i,j} = a_{i,j}\\cdot b_{i,j}\n",
    "$$\n"
   ]
  },
  {
   "cell_type": "code",
   "execution_count": 65,
   "metadata": {
    "ExecuteTime": {
     "end_time": "2023-11-04T01:55:11.852326400Z",
     "start_time": "2023-11-04T01:55:11.799252300Z"
    },
    "collapsed": false
   },
   "outputs": [
    {
     "data": {
      "text/plain": [
       "array([[ 5, 12],\n",
       "       [21, 32]])"
      ]
     },
     "execution_count": 65,
     "metadata": {},
     "output_type": "execute_result"
    }
   ],
   "source": [
    "# Multiplicación elemento a elemento\n",
    "A*B"
   ]
  },
  {
   "cell_type": "code",
   "execution_count": 66,
   "metadata": {
    "ExecuteTime": {
     "end_time": "2023-11-04T01:55:11.854328800Z",
     "start_time": "2023-11-04T01:55:11.829714800Z"
    },
    "collapsed": false
   },
   "outputs": [
    {
     "data": {
      "text/plain": [
       "2"
      ]
     },
     "execution_count": 66,
     "metadata": {},
     "output_type": "execute_result"
    }
   ],
   "source": [
    "A[0,1]\n"
   ]
  },
  {
   "cell_type": "markdown",
   "metadata": {},
   "source": [
    "### Determinante de una matriz\n",
    "\n",
    "El determinante de una matriz cuadrada $A$ de tamaño $n \\times n$ se denota como $|A|$ o $\\text{det}(A)$. Para una matriz de tamaño $2 \\times 2$, el determinante es:\n",
    "\n",
    "$$\n",
    "\\begin{vmatrix}\n",
    "a & b \\\\\n",
    "c & d \\\\\n",
    "\\end{vmatrix}\n",
    "= ad - bc\n",
    "$$\n",
    "\n",
    "De manera recursiva, el determinante de una matriz de tamaño $n \\times n$ se puede calcular como:\n",
    "\n",
    "$$\n",
    "\\text{det}(A) = \\sum_{j=1}^{n} (-1)^{1+j}a_{1,j}M_{1,j}\n",
    "$$\n",
    "\n",
    "Donde $M_{1,j}$ es el determinante de la matriz $A$ sin la fila 1 y la columna $j$.\n"
   ]
  },
  {
   "cell_type": "code",
   "execution_count": 67,
   "metadata": {
    "ExecuteTime": {
     "end_time": "2023-11-04T01:55:11.853326500Z",
     "start_time": "2023-11-04T01:55:11.804552400Z"
    },
    "collapsed": false
   },
   "outputs": [
    {
     "data": {
      "text/plain": [
       "-2.0000000000000004"
      ]
     },
     "execution_count": 67,
     "metadata": {},
     "output_type": "execute_result"
    }
   ],
   "source": [
    "# Determinante de una matriz\n",
    "np.linalg.det(A)\n"
   ]
  },
  {
   "cell_type": "markdown",
   "metadata": {},
   "source": [
    "#### Propiedades del determinante\n",
    "\n",
    "1. El determinante de una matriz triangular es el producto de los elementos de la diagonal principal.\n",
    "2. Si una matriz tiene una fila o columna de ceros, entonces su determinante es cero.\n",
    "3. Si dos filas o columnas de una matriz son iguales, entonces su determinante es cero.\n",
    "4. Si se intercambian dos filas o columnas de una matriz, el determinante cambia de signo.\n",
    "5. Si una fila o columna de una matriz se multiplica por un escalar, el determinante se multiplica por el mismo escalar.\n",
    "6. Si una matriz se puede expresar como la suma de dos matrices, entonces su determinante es la suma de los determinantes de las dos matrices.\n",
    "7. El determinante de una matriz multiplicada por otra matriz es igual al producto de los determinantes de las dos matrices.\n",
    "8. El determinante de la inversa de una matriz es el inverso del determinante de la matriz original.\n",
    "9. El determinante de la transpuesta de una matriz es igual al determinante de la matriz original.\n",
    "10. El determinante de una matriz es igual al determinante de su matriz triangular asociada.\n"
   ]
  },
  {
   "cell_type": "markdown",
   "metadata": {},
   "source": [
    "### Matrix identidad\n",
    "\n",
    "La matriz identidad de tamaño $n \\times n$ es una matriz cuadrada con unos en la diagonal principal y ceros en el resto de las entradas. Se denota como $I_n$ o simplemente $I$. Para cualquier matriz $A$ de tamaño $n \\times n$, se cumple que:\n",
    "\n",
    "$$\n",
    "A \\cdot I = I \\cdot A = A\n",
    "$$"
   ]
  },
  {
   "cell_type": "code",
   "execution_count": 68,
   "metadata": {
    "ExecuteTime": {
     "end_time": "2023-11-04T01:55:11.871090Z",
     "start_time": "2023-11-04T01:55:11.834571100Z"
    },
    "collapsed": false
   },
   "outputs": [
    {
     "data": {
      "text/plain": [
       "array([[1., 0.],\n",
       "       [0., 1.]])"
      ]
     },
     "execution_count": 68,
     "metadata": {},
     "output_type": "execute_result"
    }
   ],
   "source": [
    "# Matriz identidad\n",
    "I2 = np.eye(2)\n",
    "I2\n"
   ]
  },
  {
   "cell_type": "code",
   "execution_count": 69,
   "metadata": {
    "ExecuteTime": {
     "end_time": "2023-11-04T01:55:11.902202900Z",
     "start_time": "2023-11-04T01:55:11.841175100Z"
    },
    "collapsed": false
   },
   "outputs": [
    {
     "data": {
      "text/plain": [
       "array([[1., 2.],\n",
       "       [3., 4.]])"
      ]
     },
     "execution_count": 69,
     "metadata": {},
     "output_type": "execute_result"
    }
   ],
   "source": [
    "I2@A\n"
   ]
  },
  {
   "cell_type": "code",
   "execution_count": 70,
   "metadata": {
    "ExecuteTime": {
     "end_time": "2023-11-04T01:55:11.902202900Z",
     "start_time": "2023-11-04T01:55:11.875842500Z"
    },
    "collapsed": false
   },
   "outputs": [
    {
     "data": {
      "text/plain": [
       "array([[1., 2.],\n",
       "       [3., 4.]])"
      ]
     },
     "execution_count": 70,
     "metadata": {},
     "output_type": "execute_result"
    }
   ],
   "source": [
    "A@I2\n"
   ]
  },
  {
   "cell_type": "markdown",
   "metadata": {},
   "source": [
    "### Transpuesta de una matriz\n",
    "\n",
    "La transpuesta de una matriz $A$ de tamaño $m \\times n$ se denota como $A^T$ y es una matriz de tamaño $n \\times m$ cuyas entradas son:\n",
    "\n",
    "$$\n",
    "a_{ij}^T = a_{ji}\n",
    "$$"
   ]
  },
  {
   "cell_type": "code",
   "execution_count": 71,
   "metadata": {
    "ExecuteTime": {
     "end_time": "2023-11-04T01:55:11.999414Z",
     "start_time": "2023-11-04T01:55:11.880540Z"
    },
    "collapsed": false
   },
   "outputs": [
    {
     "data": {
      "text/plain": [
       "array([[1, 3],\n",
       "       [2, 4]])"
      ]
     },
     "execution_count": 71,
     "metadata": {},
     "output_type": "execute_result"
    }
   ],
   "source": [
    "# Transpuesta de una matriz\n",
    "A.T\n"
   ]
  },
  {
   "cell_type": "code",
   "execution_count": 72,
   "metadata": {
    "ExecuteTime": {
     "end_time": "2023-11-04T01:55:11.999920200Z",
     "start_time": "2023-11-04T01:55:11.887910700Z"
    }
   },
   "outputs": [
    {
     "data": {
      "text/plain": [
       "array([[1, 3],\n",
       "       [2, 4]])"
      ]
     },
     "execution_count": 72,
     "metadata": {},
     "output_type": "execute_result"
    }
   ],
   "source": [
    "np.transpose(A)"
   ]
  },
  {
   "cell_type": "markdown",
   "metadata": {},
   "source": [
    "### Inversa de una matriz\n",
    "\n",
    "La inversa de una matriz cuadrada $A$ de tamaño $n \\times n$ se denota como $A^{-1}$ y cumple que:\n",
    "\n",
    "$$\n",
    "A \\cdot A^{-1} = A^{-1} \\cdot A = I\n",
    "$$\n"
   ]
  },
  {
   "cell_type": "code",
   "execution_count": 73,
   "metadata": {
    "ExecuteTime": {
     "end_time": "2023-11-04T01:55:12.021709200Z",
     "start_time": "2023-11-04T01:55:11.893116600Z"
    },
    "collapsed": false
   },
   "outputs": [
    {
     "data": {
      "text/plain": [
       "array([[-2. ,  1. ],\n",
       "       [ 1.5, -0.5]])"
      ]
     },
     "execution_count": 73,
     "metadata": {},
     "output_type": "execute_result"
    }
   ],
   "source": [
    "# Inversa de una matriz\n",
    "C = np.linalg.inv(A)\n",
    "C\n"
   ]
  },
  {
   "cell_type": "code",
   "execution_count": 74,
   "metadata": {
    "ExecuteTime": {
     "end_time": "2023-11-04T01:55:12.023711500Z",
     "start_time": "2023-11-04T01:55:11.909197700Z"
    },
    "collapsed": false
   },
   "outputs": [
    {
     "data": {
      "text/plain": [
       "array([[1.00000000e+00, 1.11022302e-16],\n",
       "       [0.00000000e+00, 1.00000000e+00]])"
      ]
     },
     "execution_count": 74,
     "metadata": {},
     "output_type": "execute_result"
    }
   ],
   "source": [
    "A@C\n"
   ]
  },
  {
   "cell_type": "code",
   "execution_count": 75,
   "metadata": {
    "ExecuteTime": {
     "end_time": "2023-11-04T01:55:12.024711700Z",
     "start_time": "2023-11-04T01:55:11.913047700Z"
    },
    "collapsed": false
   },
   "outputs": [
    {
     "data": {
      "text/plain": [
       "array([[1.0000000e+00, 4.4408921e-16],\n",
       "       [0.0000000e+00, 1.0000000e+00]])"
      ]
     },
     "execution_count": 75,
     "metadata": {},
     "output_type": "execute_result"
    }
   ],
   "source": [
    "C@A\n"
   ]
  },
  {
   "cell_type": "markdown",
   "metadata": {},
   "source": [
    "### Resolución de sistemas de ecuaciones lineales con matrices inversas\n",
    "\n",
    "Para resolver un sistema de ecuaciones lineales $Ax = b$, se puede utilizar la inversa de la matriz $A$:\n",
    "\n",
    "$$\n",
    "x = A^{-1}b\n",
    "$$\n",
    "\n",
    "siempre y cuando la matriz $A$ sea invertible."
   ]
  },
  {
   "cell_type": "code",
   "execution_count": 78,
   "metadata": {},
   "outputs": [
    {
     "data": {
      "text/plain": [
       "array([ 5., -2.])"
      ]
     },
     "execution_count": 78,
     "metadata": {},
     "output_type": "execute_result"
    }
   ],
   "source": [
    "A = np.array([[2, 1],\n",
    "              [3, 2]])\n",
    "\n",
    "b = np.array([8,11])\n",
    "\n",
    "x = np.linalg.inv(A) @ b\n",
    "\n",
    "x \n"
   ]
  },
  {
   "cell_type": "code",
   "execution_count": 79,
   "metadata": {},
   "outputs": [
    {
     "data": {
      "text/plain": [
       "array([ 0.00000000e+00, -1.77635684e-15])"
      ]
     },
     "execution_count": 79,
     "metadata": {},
     "output_type": "execute_result"
    }
   ],
   "source": [
    "# Comprobación\n",
    "\n",
    "A @ x - b"
   ]
  },
  {
   "cell_type": "code",
   "execution_count": 80,
   "metadata": {},
   "outputs": [
    {
     "data": {
      "text/plain": [
       "array([ True,  True])"
      ]
     },
     "execution_count": 80,
     "metadata": {},
     "output_type": "execute_result"
    }
   ],
   "source": [
    "np.isclose(A @ x, b)"
   ]
  },
  {
   "cell_type": "markdown",
   "metadata": {},
   "source": [
    "### Resolución de sistemas de ecuaciones lineales con la función `solve` de `numpy`\n",
    "\n",
    "La función `solve` de `numpy` permite resolver sistemas de ecuaciones lineales de la forma $Ax = b$ de manera más eficiente. A continuación, se muestra cómo utilizar esta función:"
   ]
  },
  {
   "cell_type": "code",
   "execution_count": 76,
   "metadata": {
    "ExecuteTime": {
     "end_time": "2023-11-04T01:56:48.027284900Z",
     "start_time": "2023-11-04T01:56:47.983475400Z"
    },
    "collapsed": false
   },
   "outputs": [
    {
     "name": "stdout",
     "output_type": "stream",
     "text": [
      "Solution (x, y): [ 5. -2.]\n"
     ]
    },
    {
     "data": {
      "text/plain": [
       "array([ 8., 11.])"
      ]
     },
     "execution_count": 76,
     "metadata": {},
     "output_type": "execute_result"
    }
   ],
   "source": [
    "import numpy as np\n",
    "\n",
    "A = np.array([[2, 1],\n",
    "              [3, 2]])\n",
    "b = np.array([8, 11])\n",
    "\n",
    "x = np.linalg.solve(A, B)\n",
    "\n",
    "print(\"Solution (x, y):\", x)\n",
    "\n",
    "A @ x"
   ]
  },
  {
   "cell_type": "code",
   "execution_count": null,
   "metadata": {
    "collapsed": false
   },
   "outputs": [],
   "source": []
  }
 ],
 "metadata": {
  "kernelspec": {
   "display_name": "Python 3",
   "language": "python",
   "name": "python3"
  },
  "language_info": {
   "codemirror_mode": {
    "name": "ipython",
    "version": 3
   },
   "file_extension": ".py",
   "mimetype": "text/x-python",
   "name": "python",
   "nbconvert_exporter": "python",
   "pygments_lexer": "ipython3",
   "version": "3.11.5"
  }
 },
 "nbformat": 4,
 "nbformat_minor": 0
}
