{
 "cells": [
  {
   "cell_type": "markdown",
   "metadata": {},
   "source": [
    "# Cálculo diferencial con Sympy\n",
    "\n",
    "Sympy es una biblioteca de Python para matemáticas simbólicas. Permite realizar cálculos simbólicos, cálculo diferencial, cálculo integral, álgebra, ecuaciones diferenciales, etc. En este notebook vamos a ver cómo realizar cálculo diferencial con Sympy.\n",
    "\n"
   ]
  },
  {
   "cell_type": "markdown",
   "metadata": {},
   "source": [
    "Primero importamos la biblioteca y definimos las variables simbólicas que vamos a utilizar:"
   ]
  },
  {
   "cell_type": "code",
   "execution_count": 1,
   "metadata": {},
   "outputs": [],
   "source": [
    "from sympy import symbols\n",
    "\n",
    "x, y, z = symbols('x y z')"
   ]
  },
  {
   "cell_type": "markdown",
   "metadata": {},
   "source": [
    "Por ejemplo, podemos utilizar Sympy para simplificar expresiones, derivar funciones, integrar funciones, resolver ecuaciones diferenciales, etc."
   ]
  },
  {
   "cell_type": "code",
   "execution_count": 2,
   "metadata": {},
   "outputs": [
    {
     "name": "stdout",
     "output_type": "stream",
     "text": [
      "x - 1\n"
     ]
    }
   ],
   "source": [
    "from sympy import simplify\n",
    "\n",
    "expr = (x**3 + x**2 - x - 1)/(x**2 + 2*x + 1)\n",
    "simplified_expr = simplify(expr)\n",
    "print(simplified_expr)  # x - 1"
   ]
  },
  {
   "cell_type": "markdown",
   "metadata": {},
   "source": [
    "Después creamos una expresión simbólica y la derivamos con respecto a una variable simbólica:"
   ]
  },
  {
   "cell_type": "code",
   "execution_count": 3,
   "metadata": {},
   "outputs": [
    {
     "name": "stdout",
     "output_type": "stream",
     "text": [
      "2*x + 2\n"
     ]
    }
   ],
   "source": [
    "from sympy import diff\n",
    "\n",
    "expr = x**2 + 2*x + 1\n",
    "derivada = diff(expr, x)\n",
    "print(derivada)  "
   ]
  },
  {
   "cell_type": "markdown",
   "metadata": {},
   "source": [
    "Podemos también calcular derivadas de orden superior:"
   ]
  },
  {
   "cell_type": "code",
   "execution_count": 4,
   "metadata": {},
   "outputs": [
    {
     "name": "stdout",
     "output_type": "stream",
     "text": [
      "2\n"
     ]
    }
   ],
   "source": [
    "segunda_derivada = diff(expr, x, 2)\n",
    "print(segunda_derivada)  # 2"
   ]
  },
  {
   "cell_type": "markdown",
   "metadata": {},
   "source": [
    "Si variamos la variable con respecto a la que derivamos, obtenemos la derivada parcial:"
   ]
  },
  {
   "cell_type": "code",
   "execution_count": 5,
   "metadata": {},
   "outputs": [],
   "source": [
    "f = x**2 + y**2\n",
    "df_dx = diff(f, x)  # 2*x\n",
    "df_dy = diff(f, y)  # 2*y"
   ]
  },
  {
   "cell_type": "markdown",
   "metadata": {},
   "source": [
    "Finalmente, podemos sustituir valores con el método `subs`:"
   ]
  },
  {
   "cell_type": "code",
   "execution_count": 6,
   "metadata": {},
   "outputs": [
    {
     "name": "stdout",
     "output_type": "stream",
     "text": [
      "8\n"
     ]
    }
   ],
   "source": [
    "derivada = 2*x + 2\n",
    "valor_en_3 = derivada.subs(x, 3)\n",
    "print(valor_en_3)  # 8"
   ]
  },
  {
   "cell_type": "markdown",
   "metadata": {},
   "source": [
    "## Ecuaciones\n",
    "\n",
    "Sympy también permite resolver ecuaciones. Por ejemplo, podemos resolver la ecuación $ x^2 -5x + 6 = 0 $:"
   ]
  },
  {
   "cell_type": "code",
   "execution_count": 7,
   "metadata": {},
   "outputs": [],
   "source": [
    "from sympy import Eq, symbols\n",
    "\n",
    "x = symbols('x')\n",
    "ecuacion = Eq(x**2 - 5*x + 6, 0)"
   ]
  },
  {
   "cell_type": "code",
   "execution_count": 8,
   "metadata": {},
   "outputs": [
    {
     "name": "stdout",
     "output_type": "stream",
     "text": [
      "[2, 3]\n"
     ]
    }
   ],
   "source": [
    "from sympy import solve\n",
    "\n",
    "solucion = solve(ecuacion, x)\n",
    "print(solucion)  # [2, 3]"
   ]
  },
  {
   "cell_type": "markdown",
   "metadata": {},
   "source": [
    "Este tipo de ecuaciones nos son lineales, por lo que no se pueden resolver con los métodos del álgebra lineal. Si bien en este caso la solución es trivial, Sympy también puede resolver ecuaciones más complicadas. El método `solve` devuelve una lista con las soluciones de la ecuación."
   ]
  },
  {
   "cell_type": "code",
   "execution_count": 9,
   "metadata": {},
   "outputs": [
    {
     "name": "stdout",
     "output_type": "stream",
     "text": [
      "[0.523598775598299, 2.61799387799149]\n"
     ]
    }
   ],
   "source": [
    "from sympy import sin\n",
    "\n",
    "x = symbols('x')\n",
    "expr = sin(x)\n",
    "\n",
    "ecuacion_trascendental = Eq(expr, 1/2)\n",
    "solucion_trascendental = solve(ecuacion_trascendental, x)\n",
    "print(solucion_trascendental)"
   ]
  },
  {
   "cell_type": "code",
   "execution_count": 10,
   "metadata": {},
   "outputs": [
    {
     "data": {
      "text/latex": [
       "$\\displaystyle 0.5$"
      ],
      "text/plain": [
       "0.500000000000000"
      ]
     },
     "execution_count": 10,
     "metadata": {},
     "output_type": "execute_result"
    }
   ],
   "source": [
    "x1, x2 = solucion_trascendental\n",
    "expr.subs(x, x1)"
   ]
  },
  {
   "cell_type": "code",
   "execution_count": 11,
   "metadata": {},
   "outputs": [
    {
     "data": {
      "text/latex": [
       "$\\displaystyle 0.5$"
      ],
      "text/plain": [
       "0.500000000000000"
      ]
     },
     "execution_count": 11,
     "metadata": {},
     "output_type": "execute_result"
    }
   ],
   "source": [
    "expr.subs(x,x2)"
   ]
  },
  {
   "cell_type": "markdown",
   "metadata": {},
   "source": [
    "El método `solve` también puede utilizarse para resolver sistemas de ecuaciones lineales. "
   ]
  },
  {
   "cell_type": "code",
   "execution_count": 12,
   "metadata": {},
   "outputs": [
    {
     "name": "stdout",
     "output_type": "stream",
     "text": [
      "{x: 3, y: 2}\n"
     ]
    }
   ],
   "source": [
    "x, y = symbols('x, y')\n",
    "sistema = [\n",
    "    Eq(x + y, 5),\n",
    "    Eq(x - y, 1)\n",
    "]\n",
    "\n",
    "solucion_sistema = solve(sistema, (x, y))\n",
    "print(solucion_sistema)  # {x: 3, y: 2}"
   ]
  },
  {
   "cell_type": "markdown",
   "metadata": {},
   "source": [
    "Sin embargo, no siempre es posible encontrar una solución simbólica:"
   ]
  },
  {
   "cell_type": "code",
   "execution_count": 13,
   "metadata": {},
   "outputs": [
    {
     "name": "stdout",
     "output_type": "stream",
     "text": [
      "No se puede resolver\n"
     ]
    }
   ],
   "source": [
    "try:\n",
    "    ecuacion_no_lineal = Eq(x**2 + sin(x), 0)\n",
    "    solucion_no_lineal = solve(ecuacion_no_lineal, x)\n",
    "    print(solucion_no_lineal)\n",
    "except:\n",
    "    print(\"No se puede resolver\")"
   ]
  },
  {
   "cell_type": "markdown",
   "metadata": {},
   "source": [
    "En estos casos, es posible utilizar métodos numéricos para encontrar una solución aproximada. Intentaremos encontrar una aproximación a la ecuación anterior, utilizando `scipy.optimize.fsolve`:\t"
   ]
  },
  {
   "cell_type": "code",
   "execution_count": 14,
   "metadata": {},
   "outputs": [
    {
     "data": {
      "image/png": "[encoded data removed]",
      "text/plain": [
       "<Figure size 640x480 with 1 Axes>"
      ]
     },
     "metadata": {},
     "output_type": "display_data"
    }
   ],
   "source": [
    "import numpy as np\n",
    "import matplotlib.pyplot as plt\n",
    "\n",
    "x = np.linspace(-1, 0.25, 100)\n",
    "y = np.power(x,2) + np.sin(x)\n",
    "\n",
    "plt.plot(x, y)\n",
    "plt.axhline(0, color='green')  # This line adds the x-axis\n",
    "plt.show()"
   ]
  },
  {
   "cell_type": "code",
   "execution_count": 15,
   "metadata": {},
   "outputs": [
    {
     "data": {
      "text/plain": [
       "array([-8.76726215e-01, -1.55708231e-13])"
      ]
     },
     "execution_count": 15,
     "metadata": {},
     "output_type": "execute_result"
    }
   ],
   "source": [
    "from scipy.optimize import fsolve\n",
    "\n",
    "def f(x):\n",
    "    return np.power(x,2) + np.sin(x)\n",
    "\n",
    "x = fsolve(f, [-1, 0.25])\n",
    "x"
   ]
  },
  {
   "cell_type": "code",
   "execution_count": 16,
   "metadata": {},
   "outputs": [
    {
     "data": {
      "text/plain": [
       "array([ True,  True])"
      ]
     },
     "execution_count": 16,
     "metadata": {},
     "output_type": "execute_result"
    }
   ],
   "source": [
    "np.isclose(f(x), 0)"
   ]
  },
  {
   "cell_type": "markdown",
   "metadata": {},
   "source": [
    "## Puntos críticos\n",
    "\n",
    "Los puntos críticos de una función diferenciable son aquellos en los que la derivada de la función es cero. Para encontrar los puntos críticos de una función, primero calculamos la derivada de la función y luego resolvemos la ecuación $ f'(x) = 0 $. Estos puntos pueden ser máximos, mínimos o puntos de inflexión. Por esta razón es que son importantes en el análisis de funciones y en la optimización.\n",
    "\n",
    "Emplearemos las técnicas anteriores, para calcular puntos críticos de una función. Por ejemplo, consideremos la función $ f(x) = x^3 - 3x^2 + 2*x $:\t"
   ]
  },
  {
   "cell_type": "code",
   "execution_count": 17,
   "metadata": {},
   "outputs": [],
   "source": [
    "from sympy import symbols\n",
    "\n",
    "x = symbols('x')"
   ]
  },
  {
   "cell_type": "code",
   "execution_count": 18,
   "metadata": {},
   "outputs": [],
   "source": [
    "f = x**3 - 3*x**2 + 2*x\n"
   ]
  },
  {
   "cell_type": "code",
   "execution_count": 19,
   "metadata": {},
   "outputs": [],
   "source": [
    "from sympy import lambdify\n",
    "lam_f = lambdify(x, f, 'numpy')"
   ]
  },
  {
   "cell_type": "code",
   "execution_count": 20,
   "metadata": {},
   "outputs": [
    {
     "data": {
      "image/png": "[encoded data removed]",
      "text/plain": [
       "<Figure size 640x480 with 1 Axes>"
      ]
     },
     "metadata": {},
     "output_type": "display_data"
    }
   ],
   "source": [
    "x_vals = np.linspace(-1, 3, 100)\n",
    "y_vals = lam_f(x_vals)\n",
    "\n",
    "plt.plot(x_vals, y_vals)\n",
    "plt.axhline(0, color='green')\n",
    "plt.show()"
   ]
  },
  {
   "cell_type": "code",
   "execution_count": 21,
   "metadata": {},
   "outputs": [
    {
     "data": {
      "text/latex": [
       "$\\displaystyle 3 x^{2} - 6 x + 2$"
      ],
      "text/plain": [
       "3*x**2 - 6*x + 2"
      ]
     },
     "execution_count": 21,
     "metadata": {},
     "output_type": "execute_result"
    }
   ],
   "source": [
    "from sympy import diff\n",
    "\n",
    "f_prime = diff(f, x)\n",
    "f_prime"
   ]
  },
  {
   "cell_type": "code",
   "execution_count": 22,
   "metadata": {},
   "outputs": [
    {
     "data": {
      "text/plain": [
       "[1 - sqrt(3)/3, sqrt(3)/3 + 1]"
      ]
     },
     "execution_count": 22,
     "metadata": {},
     "output_type": "execute_result"
    }
   ],
   "source": [
    "from sympy import solve\n",
    "\n",
    "critical_points = solve(f_prime, x)\n",
    "critical_points"
   ]
  },
  {
   "cell_type": "code",
   "execution_count": 23,
   "metadata": {},
   "outputs": [],
   "source": [
    "lam_fp = lambdify(x, f_prime, 'numpy')"
   ]
  },
  {
   "cell_type": "code",
   "execution_count": 24,
   "metadata": {},
   "outputs": [],
   "source": [
    "x1, x2 = critical_points"
   ]
  },
  {
   "cell_type": "code",
   "execution_count": 25,
   "metadata": {},
   "outputs": [
    {
     "data": {
      "text/latex": [
       "$\\displaystyle -4 + 3 \\left(1 - \\frac{\\sqrt{3}}{3}\\right)^{2} + 2 \\sqrt{3}$"
      ],
      "text/plain": [
       "-4 + 3*(1 - sqrt(3)/3)**2 + 2*sqrt(3)"
      ]
     },
     "execution_count": 25,
     "metadata": {},
     "output_type": "execute_result"
    }
   ],
   "source": [
    "lam_fp(x1)"
   ]
  },
  {
   "cell_type": "code",
   "execution_count": 26,
   "metadata": {},
   "outputs": [
    {
     "data": {
      "text/latex": [
       "$\\displaystyle 0$"
      ],
      "text/plain": [
       "0"
      ]
     },
     "execution_count": 26,
     "metadata": {},
     "output_type": "execute_result"
    }
   ],
   "source": [
    "simplify(lam_fp(x1))"
   ]
  },
  {
   "cell_type": "code",
   "execution_count": 27,
   "metadata": {},
   "outputs": [
    {
     "data": {
      "text/latex": [
       "$\\displaystyle 3.0 \\cdot 10^{-126}$"
      ],
      "text/plain": [
       "0.e-126"
      ]
     },
     "execution_count": 27,
     "metadata": {},
     "output_type": "execute_result"
    }
   ],
   "source": [
    "lam_fp(x1).evalf()"
   ]
  },
  {
   "cell_type": "code",
   "execution_count": 28,
   "metadata": {},
   "outputs": [
    {
     "data": {
      "text/plain": [
       "True"
      ]
     },
     "execution_count": 28,
     "metadata": {},
     "output_type": "execute_result"
    }
   ],
   "source": [
    "np.isclose(float(lam_fp(x1).evalf()), 0)"
   ]
  },
  {
   "cell_type": "code",
   "execution_count": 29,
   "metadata": {},
   "outputs": [
    {
     "data": {
      "text/plain": [
       "True"
      ]
     },
     "execution_count": 29,
     "metadata": {},
     "output_type": "execute_result"
    }
   ],
   "source": [
    "np.isclose(float(lam_fp(x2).evalf()), 0)"
   ]
  },
  {
   "cell_type": "markdown",
   "metadata": {},
   "source": [
    "## Máximos y mínimos\n",
    "\n",
    "Para determinar si un punto crítico es un máximo o un mínimo, podemos utilizar la segunda derivada. Si la segunda derivada es positiva, el punto crítico es un mínimo. Si la segunda derivada es negativa, el punto crítico es un máximo. Si la segunda derivada es cero, el test no es concluyente y se requiere de otro método para determinar si el punto crítico es un máximo, un mínimo o un punto de inflexión."
   ]
  },
  {
   "cell_type": "code",
   "execution_count": 30,
   "metadata": {},
   "outputs": [
    {
     "data": {
      "text/latex": [
       "$\\displaystyle 6 x - 6$"
      ],
      "text/plain": [
       "6*x - 6"
      ]
     },
     "execution_count": 30,
     "metadata": {},
     "output_type": "execute_result"
    }
   ],
   "source": [
    "f_double_prime = diff(f_prime, x)\n",
    "f_double_prime"
   ]
  },
  {
   "cell_type": "code",
   "execution_count": 31,
   "metadata": {},
   "outputs": [
    {
     "name": "stdout",
     "output_type": "stream",
     "text": [
      "1 - sqrt(3)/3 es un máximo local.\n",
      "sqrt(3)/3 + 1 es un mínimo local.\n"
     ]
    }
   ],
   "source": [
    "\n",
    "for point in critical_points:\n",
    "    if f_double_prime.subs(x, point) > 0:\n",
    "        print(f\"{point} es un mínimo local.\")\n",
    "    elif f_double_prime.subs(x, point) < 0:\n",
    "        print(f\"{point} es un máximo local.\")\n",
    "    else:\n",
    "        print(f\"{point} no es concluyente.\")"
   ]
  },
  {
   "cell_type": "code",
   "execution_count": null,
   "metadata": {},
   "outputs": [],
   "source": []
  }
 ],
 "metadata": {
  "kernelspec": {
   "display_name": "machine_learning",
   "language": "python",
   "name": "python3"
  },
  "language_info": {
   "codemirror_mode": {
    "name": "ipython",
    "version": 3
   },
   "file_extension": ".py",
   "mimetype": "text/x-python",
   "name": "python",
   "nbconvert_exporter": "python",
   "pygments_lexer": "ipython3",
   "version": "3.11.5"
  }
 },
 "nbformat": 4,
 "nbformat_minor": 2
}
