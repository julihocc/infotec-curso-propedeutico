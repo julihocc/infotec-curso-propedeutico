{
 "cells": [
  {
   "cell_type": "markdown",
   "metadata": {},
   "source": [
    "# Sympy"
   ]
  },
  {
   "cell_type": "markdown",
   "metadata": {},
   "source": [
    "## Cálculo"
   ]
  },
  {
   "cell_type": "code",
   "execution_count": 1,
   "metadata": {},
   "outputs": [],
   "source": [
    "from sympy import symbols\n",
    "\n",
    "x, y, z = symbols('x y z')"
   ]
  },
  {
   "cell_type": "code",
   "execution_count": 2,
   "metadata": {},
   "outputs": [
    {
     "name": "stdout",
     "output_type": "stream",
     "text": [
      "2*x + 2\n"
     ]
    }
   ],
   "source": [
    "from sympy import diff\n",
    "\n",
    "expr = x**2 + 2*x + 1\n",
    "derivada = diff(expr, x)\n",
    "print(derivada)  "
   ]
  },
  {
   "cell_type": "code",
   "execution_count": 3,
   "metadata": {},
   "outputs": [
    {
     "name": "stdout",
     "output_type": "stream",
     "text": [
      "2\n"
     ]
    }
   ],
   "source": [
    "segunda_derivada = diff(expr, x, 2)\n",
    "print(segunda_derivada)  # 2"
   ]
  },
  {
   "cell_type": "code",
   "execution_count": 4,
   "metadata": {},
   "outputs": [],
   "source": [
    "f = x**2 + y**2\n",
    "df_dx = diff(f, x)  # 2*x\n",
    "df_dy = diff(f, y)  # 2*y"
   ]
  },
  {
   "cell_type": "code",
   "execution_count": 5,
   "metadata": {},
   "outputs": [
    {
     "name": "stdout",
     "output_type": "stream",
     "text": [
      "8\n"
     ]
    }
   ],
   "source": [
    "derivada = 2*x + 2\n",
    "valor_en_3 = derivada.subs(x, 3)\n",
    "print(valor_en_3)  # 8"
   ]
  },
  {
   "cell_type": "code",
   "execution_count": 6,
   "metadata": {},
   "outputs": [
    {
     "name": "stdout",
     "output_type": "stream",
     "text": [
      "x - 1\n"
     ]
    }
   ],
   "source": [
    "from sympy import simplify\n",
    "\n",
    "expr = (x**3 + x**2 - x - 1)/(x**2 + 2*x + 1)\n",
    "simplified_expr = simplify(expr)\n",
    "print(simplified_expr)  # x - 1"
   ]
  },
  {
   "cell_type": "markdown",
   "metadata": {},
   "source": [
    "## Ecuaciones"
   ]
  },
  {
   "cell_type": "code",
   "execution_count": 7,
   "metadata": {},
   "outputs": [],
   "source": [
    "from sympy import Eq, symbols\n",
    "\n",
    "x = symbols('x')\n",
    "ecuacion = Eq(x**2 - 5*x + 6, 0)"
   ]
  },
  {
   "cell_type": "code",
   "execution_count": 8,
   "metadata": {},
   "outputs": [
    {
     "name": "stdout",
     "output_type": "stream",
     "text": [
      "[2, 3]\n"
     ]
    }
   ],
   "source": [
    "from sympy import solve\n",
    "\n",
    "solucion = solve(ecuacion, x)\n",
    "print(solucion)  # [2, 3]"
   ]
  },
  {
   "cell_type": "code",
   "execution_count": 9,
   "metadata": {},
   "outputs": [
    {
     "name": "stdout",
     "output_type": "stream",
     "text": [
      "[0.523598775598299, 2.61799387799149]\n"
     ]
    }
   ],
   "source": [
    "from sympy import sin\n",
    "\n",
    "ecuacion_trascendental = Eq(sin(x), 1/2)\n",
    "solucion_trascendental = solve(ecuacion_trascendental, x)\n",
    "print(solucion_trascendental)"
   ]
  },
  {
   "cell_type": "code",
   "execution_count": 10,
   "metadata": {},
   "outputs": [
    {
     "name": "stdout",
     "output_type": "stream",
     "text": [
      "{x: 3, y: 2}\n"
     ]
    }
   ],
   "source": [
    "y = symbols('y')\n",
    "sistema = [\n",
    "    Eq(x + y, 5),\n",
    "    Eq(x - y, 1)\n",
    "]\n",
    "\n",
    "solucion_sistema = solve(sistema, (x, y))\n",
    "print(solucion_sistema)  # {x: 3, y: 2}"
   ]
  },
  {
   "cell_type": "code",
   "execution_count": 11,
   "metadata": {},
   "outputs": [
    {
     "name": "stdout",
     "output_type": "stream",
     "text": [
      "No se puede resolver\n"
     ]
    }
   ],
   "source": [
    "try:\n",
    "    ecuacion_no_lineal = Eq(x**2 + sin(x), 0)\n",
    "    solucion_no_lineal = solve(ecuacion_no_lineal, x)\n",
    "    print(solucion_no_lineal)\n",
    "except:\n",
    "    print(\"No se puede resolver\")"
   ]
  },
  {
   "cell_type": "markdown",
   "metadata": {},
   "source": [
    "## Puntos críticos"
   ]
  },
  {
   "cell_type": "code",
   "execution_count": 12,
   "metadata": {},
   "outputs": [],
   "source": [
    "from sympy import symbols\n",
    "\n",
    "x = symbols('x')"
   ]
  },
  {
   "cell_type": "code",
   "execution_count": 13,
   "metadata": {},
   "outputs": [],
   "source": [
    "f = x**3 - 3*x**2 + 2*x\n"
   ]
  },
  {
   "cell_type": "code",
   "execution_count": 14,
   "metadata": {},
   "outputs": [
    {
     "data": {
      "text/latex": [
       "$\\displaystyle 3 x^{2} - 6 x + 2$"
      ],
      "text/plain": [
       "3*x**2 - 6*x + 2"
      ]
     },
     "execution_count": 14,
     "metadata": {},
     "output_type": "execute_result"
    }
   ],
   "source": [
    "from sympy import diff\n",
    "\n",
    "f_prime = diff(f, x)\n",
    "f_prime"
   ]
  },
  {
   "cell_type": "code",
   "execution_count": 15,
   "metadata": {},
   "outputs": [
    {
     "data": {
      "text/plain": [
       "[1 - sqrt(3)/3, sqrt(3)/3 + 1]"
      ]
     },
     "execution_count": 15,
     "metadata": {},
     "output_type": "execute_result"
    }
   ],
   "source": [
    "from sympy import solve\n",
    "\n",
    "critical_points = solve(f_prime, x)\n",
    "critical_points"
   ]
  },
  {
   "cell_type": "code",
   "execution_count": 16,
   "metadata": {},
   "outputs": [
    {
     "data": {
      "text/latex": [
       "$\\displaystyle 6 x - 6$"
      ],
      "text/plain": [
       "6*x - 6"
      ]
     },
     "execution_count": 16,
     "metadata": {},
     "output_type": "execute_result"
    }
   ],
   "source": [
    "f_double_prime = diff(f_prime, x)\n",
    "f_double_prime"
   ]
  },
  {
   "cell_type": "code",
   "execution_count": 17,
   "metadata": {},
   "outputs": [
    {
     "name": "stdout",
     "output_type": "stream",
     "text": [
      "1 - sqrt(3)/3 es un máximo local.\n",
      "sqrt(3)/3 + 1 es un mínimo local.\n"
     ]
    }
   ],
   "source": [
    "\n",
    "for point in critical_points:\n",
    "    if f_double_prime.subs(x, point) > 0:\n",
    "        print(f\"{point} es un mínimo local.\")\n",
    "    elif f_double_prime.subs(x, point) < 0:\n",
    "        print(f\"{point} es un máximo local.\")\n",
    "    else:\n",
    "        print(f\"{point} no es concluyente.\")"
   ]
  },
  {
   "cell_type": "code",
   "execution_count": null,
   "metadata": {},
   "outputs": [],
   "source": []
  }
 ],
 "metadata": {
  "kernelspec": {
   "display_name": "machine_learning",
   "language": "python",
   "name": "python3"
  },
  "language_info": {
   "codemirror_mode": {
    "name": "ipython",
    "version": 3
   },
   "file_extension": ".py",
   "mimetype": "text/x-python",
   "name": "python",
   "nbconvert_exporter": "python",
   "pygments_lexer": "ipython3",
   "version": "3.11.5"
  }
 },
 "nbformat": 4,
 "nbformat_minor": 2
}
