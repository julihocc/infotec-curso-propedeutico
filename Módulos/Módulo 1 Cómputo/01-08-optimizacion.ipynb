{
 "cells": [
  {
   "cell_type": "code",
   "execution_count": 12,
   "metadata": {},
   "outputs": [],
   "source": [
    "# Optimización y eficiencia\n",
    "## Consejos para escribir código NumPy eficiente. Uso de operaciones in-place, evitar bucles cuando sea posible.\n",
    "\n",
    "import numpy as np\n",
    "import time\n",
    "\n",
    "# Operaciones in-place\n",
    "# Las operaciones in-place son aquellas que modifican directamente el contenido de un array, sin necesidad de crear un nuevo array.\n",
    "# Esto puede ser más eficiente en términos de memoria y tiempo de ejecución.\n",
    "# Por ejemplo, si queremos sumar 1 a todos los elementos de un array, podemos hacerlo de dos formas:\n",
    "\n",
    "\n",
    "a = np.random.random(1000000)\n"
   ]
  },
  {
   "cell_type": "code",
   "execution_count": 13,
   "metadata": {},
   "outputs": [
    {
     "name": "stdout",
     "output_type": "stream",
     "text": [
      "Tiempo sin operación in-place: 0.0069997310638427734\n"
     ]
    }
   ],
   "source": [
    "\n",
    "# Forma 1: sin operación in-place\n",
    "start = time.time()\n",
    "a = a + 1\n",
    "end = time.time()\n",
    "print(\"Tiempo sin operación in-place:\", end - start)\n"
   ]
  },
  {
   "cell_type": "code",
   "execution_count": 14,
   "metadata": {},
   "outputs": [
    {
     "name": "stdout",
     "output_type": "stream",
     "text": [
      "Tiempo con operación in-place: 0.0030901432037353516\n"
     ]
    }
   ],
   "source": [
    "# Forma 2: con operación in-place\n",
    "start = time.time()\n",
    "a += 1\n",
    "end = time.time()\n",
    "print(\"Tiempo con operación in-place:\", end - start)\n",
    "\n",
    "# En este caso, la forma 2 es más eficiente en términos de tiempo de ejecución, ya que no necesita crear un nuevo array para almacenar el resultado de la operación."
   ]
  },
  {
   "cell_type": "code",
   "execution_count": 15,
   "metadata": {},
   "outputs": [],
   "source": [
    "# Evitar bucles\n",
    "\n",
    "# En general, es recomendable evitar bucles en Python cuando sea posible, ya que son menos eficientes que las operaciones vectorizadas de NumPy.\n",
    "# Por ejemplo, si queremos calcular el cuadrado de todos los elementos de un array, podemos hacerlo de dos formas:\n",
    "\n",
    "a = np.random.random(1000000)"
   ]
  },
  {
   "cell_type": "code",
   "execution_count": 16,
   "metadata": {},
   "outputs": [
    {
     "name": "stdout",
     "output_type": "stream",
     "text": [
      "Tiempo con bucle: 0.3096749782562256\n"
     ]
    }
   ],
   "source": [
    "# Forma 1: con bucle\n",
    "start = time.time()\n",
    "result = np.zeros_like(a)\n",
    "for i in range(len(a)):\n",
    "    result[i] = a[i] ** 2\n",
    "end = time.time()\n",
    "print(\"Tiempo con bucle:\", end - start)"
   ]
  },
  {
   "cell_type": "code",
   "execution_count": 17,
   "metadata": {},
   "outputs": [
    {
     "name": "stdout",
     "output_type": "stream",
     "text": [
      "Tiempo sin bucle: 0.004007101058959961\n"
     ]
    }
   ],
   "source": [
    "# Forma 2: sin bucle\n",
    "start = time.time()\n",
    "result = a ** 2\n",
    "end = time.time()\n",
    "print(\"Tiempo sin bucle:\", end - start)"
   ]
  },
  {
   "cell_type": "code",
   "execution_count": 24,
   "metadata": {},
   "outputs": [
    {
     "name": "stdout",
     "output_type": "stream",
     "text": [
      "12.4 µs ± 437 ns per loop (mean ± std. dev. of 7 runs, 100,000 loops each)\n"
     ]
    }
   ],
   "source": [
    "# Perfiles y depuración \n",
    "\n",
    "## Herramientas para medir y mejorar el rendimiento del código NumPy.\n",
    "\n",
    "# Perfiles de código\n",
    "\n",
    "# Una forma de medir el rendimiento de un código NumPy es utilizando la función %timeit de IPython, que ejecuta una instrucción varias veces y calcula el tiempo promedio de ejecución.\n",
    "# Por ejemplo, si queremos medir el tiempo de ejecución de la operación a = a + 1:\n",
    "\n",
    "%timeit for _ in range(1000): True\n"
   ]
  },
  {
   "cell_type": "code",
   "execution_count": 28,
   "metadata": {},
   "outputs": [
    {
     "name": "stdout",
     "output_type": "stream",
     "text": [
      "10.7 ms ± 893 µs per loop (mean ± std. dev. of 7 runs, 100 loops each)\n"
     ]
    }
   ],
   "source": [
    "%%timeit\n",
    "\n",
    "a = np.random.random(1000000)\n",
    "a = a + 1\n"
   ]
  },
  {
   "cell_type": "code",
   "execution_count": 29,
   "metadata": {},
   "outputs": [
    {
     "name": "stdout",
     "output_type": "stream",
     "text": [
      "8.36 ms ± 185 µs per loop (mean ± std. dev. of 7 runs, 100 loops each)\n"
     ]
    }
   ],
   "source": [
    "%%timeit\n",
    "\n",
    "a = np.random.random(1000000)\n",
    "a += 1"
   ]
  },
  {
   "cell_type": "code",
   "execution_count": 30,
   "metadata": {},
   "outputs": [
    {
     "name": "stdout",
     "output_type": "stream",
     "text": [
      "         10 function calls in 0.295 seconds\n",
      "\n",
      "   Ordered by: standard name\n",
      "\n",
      "   ncalls  tottime  percall  cumtime  percall filename:lineno(function)\n",
      "        1    0.293    0.293    0.294    0.294 3274204399.py:8(square_elements)\n",
      "        1    0.001    0.001    0.295    0.295 <string>:1(<module>)\n",
      "        1    0.000    0.000    0.000    0.000 multiarray.py:1080(copyto)\n",
      "        1    0.000    0.000    0.000    0.000 multiarray.py:85(empty_like)\n",
      "        1    0.000    0.000    0.000    0.000 numeric.py:63(_zeros_like_dispatcher)\n",
      "        1    0.001    0.001    0.001    0.001 numeric.py:67(zeros_like)\n",
      "        1    0.000    0.000    0.295    0.295 {built-in method builtins.exec}\n",
      "        1    0.000    0.000    0.000    0.000 {built-in method builtins.len}\n",
      "        1    0.000    0.000    0.000    0.000 {built-in method numpy.zeros}\n",
      "        1    0.000    0.000    0.000    0.000 {method 'disable' of '_lsprof.Profiler' objects}\n",
      "\n",
      "\n"
     ]
    }
   ],
   "source": [
    "# Depuración\n",
    "\n",
    "# Para depurar un código NumPy y encontrar posibles cuellos de botella, podemos utilizar herramientas como el módulo cProfile de Python, que nos permite analizar el tiempo de ejecución de cada función y línea de código.\n",
    "# Por ejemplo, si queremos depurar el código anterior que calcula el cuadrado de todos los elementos de un array, podemos hacerlo de la siguiente forma:\n",
    "\n",
    "import cProfile\n",
    "\n",
    "def square_elements(a):\n",
    "    result = np.zeros_like(a)\n",
    "    for i in range(len(a)):\n",
    "        result[i] = a[i] ** 2\n",
    "    return result\n",
    "\n",
    "a = np.random.random(1000000)\n",
    "cProfile.run(\"square_elements(a)\")"
   ]
  },
  {
   "cell_type": "code",
   "execution_count": null,
   "metadata": {},
   "outputs": [],
   "source": [
    "# Con esta información, podemos identificar las partes del código que consumen más tiempo de ejecución y optimizarlas para mejorar el rendimiento general del código NumPy.\n"
   ]
  }
 ],
 "metadata": {
  "kernelspec": {
   "display_name": "machine_learning",
   "language": "python",
   "name": "python3"
  },
  "language_info": {
   "codemirror_mode": {
    "name": "ipython",
    "version": 3
   },
   "file_extension": ".py",
   "mimetype": "text/x-python",
   "name": "python",
   "nbconvert_exporter": "python",
   "pygments_lexer": "ipython3",
   "version": "3.11.5"
  }
 },
 "nbformat": 4,
 "nbformat_minor": 2
}
