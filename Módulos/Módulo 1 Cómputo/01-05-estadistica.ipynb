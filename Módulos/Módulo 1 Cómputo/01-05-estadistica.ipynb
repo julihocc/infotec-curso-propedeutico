{
 "cells": [
  {
   "cell_type": "code",
   "execution_count": 14,
   "metadata": {},
   "outputs": [
    {
     "name": "stdout",
     "output_type": "stream",
     "text": [
      "3.0\n"
     ]
    }
   ],
   "source": [
    "# Estadística matemática con Numpy\n",
    "import numpy as np\n",
    "\n",
    "# Calculando la media\n",
    "x = np.array([1, 2, 3, 4, 5])\n",
    "mean = np.mean(x)\n",
    "print(mean)"
   ]
  },
  {
   "cell_type": "code",
   "execution_count": 15,
   "metadata": {},
   "outputs": [
    {
     "name": "stdout",
     "output_type": "stream",
     "text": [
      "2.75\n"
     ]
    }
   ],
   "source": [
    "# Calculo de la media con datos faltantes\n",
    "x = np.array([1, 2, 3, np.nan, 5])\n",
    "mean = np.nanmean(x)\n",
    "print(mean)"
   ]
  },
  {
   "cell_type": "code",
   "execution_count": 16,
   "metadata": {},
   "outputs": [
    {
     "name": "stdout",
     "output_type": "stream",
     "text": [
      "3.0\n"
     ]
    }
   ],
   "source": [
    "# Calculando la mediana\n",
    "x = np.array([1, 2, 3, 4, 5])\n",
    "median = np.median(x)\n",
    "print(median)"
   ]
  },
  {
   "cell_type": "code",
   "execution_count": 17,
   "metadata": {},
   "outputs": [
    {
     "name": "stdout",
     "output_type": "stream",
     "text": [
      "2.5\n"
     ]
    }
   ],
   "source": [
    "# Calculo de la mediana con datos faltantes\n",
    "x = np.array([1, 2, 3, np.nan, 5])\n",
    "median = np.nanmedian(x)\n",
    "print(median)\n"
   ]
  },
  {
   "cell_type": "code",
   "execution_count": 18,
   "metadata": {},
   "outputs": [
    {
     "name": "stdout",
     "output_type": "stream",
     "text": [
      "[0 1 1 1 1 1 3]\n"
     ]
    }
   ],
   "source": [
    "# Cálculo de la moda\n",
    "x = np.array([1, 2, 3, 4, 5, 6, 6, 6])\n",
    "# mode = np.argmax(np.bincount(x))\n",
    "bincount = np.bincount(x)\n",
    "print(bincount)"
   ]
  },
  {
   "cell_type": "code",
   "execution_count": 19,
   "metadata": {},
   "outputs": [
    {
     "name": "stdout",
     "output_type": "stream",
     "text": [
      "6\n"
     ]
    }
   ],
   "source": [
    "mode = np.argmax(bincount)\n",
    "print(mode)"
   ]
  },
  {
   "cell_type": "code",
   "execution_count": 20,
   "metadata": {},
   "outputs": [
    {
     "name": "stdout",
     "output_type": "stream",
     "text": [
      "1.4142135623730951\n"
     ]
    }
   ],
   "source": [
    "# Cálculo de la desviación estándar\n",
    "x = np.array([1, 2, 3, 4, 5])\n",
    "std = np.std(x)\n",
    "print(std)"
   ]
  },
  {
   "cell_type": "code",
   "execution_count": 21,
   "metadata": {},
   "outputs": [
    {
     "name": "stdout",
     "output_type": "stream",
     "text": [
      "[1. 2. 3. 5.]\n"
     ]
    }
   ],
   "source": [
    "# Manipulación y limpieza de datos\n",
    "\n",
    "# Eliminando datos faltantes\n",
    "x = np.array([1, 2, 3, np.nan, 5])\n",
    "x = x[~np.isnan(x)]\n",
    "print(x)"
   ]
  },
  {
   "cell_type": "code",
   "execution_count": 22,
   "metadata": {},
   "outputs": [
    {
     "name": "stdout",
     "output_type": "stream",
     "text": [
      "[1 2 3 4 5]\n"
     ]
    }
   ],
   "source": [
    "# Eliminando datos duplicados\n",
    "x = np.array([1, 2, 3, 3, 4, 5, 5])\n",
    "x = np.unique(x)\n",
    "print(x)"
   ]
  },
  {
   "cell_type": "code",
   "execution_count": 23,
   "metadata": {},
   "outputs": [
    {
     "name": "stdout",
     "output_type": "stream",
     "text": [
      "[1 2 3 4]\n"
     ]
    }
   ],
   "source": [
    "# Eliminando datos atípicos\n",
    "x = np.array([1, 2, 3, 4, 5])\n",
    "x = x[x < 5]\n",
    "print(x)"
   ]
  },
  {
   "cell_type": "code",
   "execution_count": 24,
   "metadata": {},
   "outputs": [
    {
     "name": "stdout",
     "output_type": "stream",
     "text": [
      "[1.   2.   3.   2.75 5.  ]\n"
     ]
    }
   ],
   "source": [
    "# Reemplazando datos faltantes\n",
    "x = np.array([1, 2, 3, np.nan, 5])\n",
    "x[np.isnan(x)] = np.nanmean(x)\n",
    "print(x)"
   ]
  },
  {
   "cell_type": "code",
   "execution_count": 25,
   "metadata": {},
   "outputs": [
    {
     "name": "stdout",
     "output_type": "stream",
     "text": [
      "[0.   0.25 0.5  0.75 1.  ]\n"
     ]
    }
   ],
   "source": [
    "# Transformación de datos\n",
    "# Normalización de datos\n",
    "x = np.array([1, 2, 3, 4, 5])\n",
    "normalized = (x - np.min(x)) / (np.max(x) - np.min(x))\n",
    "print(normalized) "
   ]
  },
  {
   "cell_type": "code",
   "execution_count": 26,
   "metadata": {},
   "outputs": [
    {
     "name": "stdout",
     "output_type": "stream",
     "text": [
      "[-1.41421356 -0.70710678  0.          0.70710678  1.41421356]\n"
     ]
    }
   ],
   "source": [
    "# Estandarización de datos\n",
    "x = np.array([1, 2, 3, 4, 5])\n",
    "standardized = (x - np.mean(x)) / np.std(x)\n",
    "print(standardized)\n"
   ]
  },
  {
   "cell_type": "code",
   "execution_count": null,
   "metadata": {},
   "outputs": [],
   "source": []
  }
 ],
 "metadata": {
  "kernelspec": {
   "display_name": "machine_learning",
   "language": "python",
   "name": "python3"
  },
  "language_info": {
   "codemirror_mode": {
    "name": "ipython",
    "version": 3
   },
   "file_extension": ".py",
   "mimetype": "text/x-python",
   "name": "python",
   "nbconvert_exporter": "python",
   "pygments_lexer": "ipython3",
   "version": "3.11.5"
  }
 },
 "nbformat": 4,
 "nbformat_minor": 2
}
