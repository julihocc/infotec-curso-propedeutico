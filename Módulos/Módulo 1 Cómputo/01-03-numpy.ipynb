{
 "cells": [
  {
   "cell_type": "code",
   "execution_count": 1,
   "metadata": {},
   "outputs": [],
   "source": [
    "# Numpy \n",
    "\n",
    "# Numpy es una librería de Python que se utiliza para trabajar con arreglos multidimensionales.\n",
    "# Se utiliza para realizar operaciones matemáticas y lógicas con estos arreglos.\n",
    "# Numpy es un acrónimo de \"Numerical Python\".\n",
    "\n",
    "# Instalación de Numpy\n",
    "# Para instalar Numpy, se utiliza el siguiente comando:\n",
    "# pip install numpy\n",
    "\n",
    "# Importar Numpy\n",
    "# Para utilizar Numpy, se debe importar la librería:\n",
    "import numpy as np"
   ]
  },
  {
   "cell_type": "code",
   "execution_count": 2,
   "metadata": {},
   "outputs": [
    {
     "name": "stdout",
     "output_type": "stream",
     "text": [
      "[1 2 3 4 5]\n"
     ]
    }
   ],
   "source": [
    "# Crear un arreglo de Numpy\n",
    "# Para crear un arreglo de Numpy, se utiliza la función array().\n",
    "# El siguiente ejemplo crea un arreglo de Numpy con 5 elementos:\n",
    "arr = np.array([1, 2, 3, 4, 5])\n",
    "print(arr)"
   ]
  },
  {
   "cell_type": "code",
   "execution_count": 6,
   "metadata": {},
   "outputs": [
    {
     "name": "stdout",
     "output_type": "stream",
     "text": [
      "<class 'numpy.float64'>\n"
     ]
    }
   ],
   "source": [
    "# Tipo de datos\n",
    "# Numpy almacena los elementos de un arreglo en un tipo de datos específico.\n",
    "# Se puede especificar el tipo de datos al crear un arreglo.\n",
    "# El siguiente ejemplo crea un arreglo de Numpy con el tipo de datos string:\n",
    "arr = np.array([1, 2, 3, 4, 5], dtype='float')\n",
    "print(type(arr[0]))"
   ]
  },
  {
   "cell_type": "code",
   "execution_count": 8,
   "metadata": {},
   "outputs": [
    {
     "name": "stdout",
     "output_type": "stream",
     "text": [
      "42\n"
     ]
    }
   ],
   "source": [
    "# Dimensiones de un arreglo\n",
    "# Un arreglo de Numpy puede tener una o más dimensiones.\n",
    "# Se puede especificar el número de dimensiones al crear un arreglo.\n",
    "# Crear un arreglo de Numpy con 0 dimensiones\n",
    "# Un arreglo de Numpy con 0 dimensiones se llama escalar.\n",
    "# El siguiente ejemplo crea un arreglo de Numpy con 0 dimensiones:\n",
    "arr = np.array(42)\n",
    "print(arr)"
   ]
  },
  {
   "cell_type": "code",
   "execution_count": 9,
   "metadata": {},
   "outputs": [
    {
     "name": "stdout",
     "output_type": "stream",
     "text": [
      "[1 2 3 4 5]\n"
     ]
    }
   ],
   "source": [
    "# Crear un arreglo de Numpy con 1 dimensión\n",
    "# Un arreglo de Numpy con 1 dimensión se llama vector.\n",
    "# El siguiente ejemplo crea un arreglo de Numpy con 1 dimensión:\n",
    "arr = np.array([1, 2, 3, 4, 5])\n",
    "print(arr)"
   ]
  },
  {
   "cell_type": "code",
   "execution_count": 10,
   "metadata": {},
   "outputs": [
    {
     "name": "stdout",
     "output_type": "stream",
     "text": [
      "[[1 2 3]\n",
      " [4 5 6]]\n"
     ]
    }
   ],
   "source": [
    "# Crear un arreglo de Numpy con 2 dimensiones\n",
    "# Un arreglo de Numpy con 2 dimensiones se llama matriz.\n",
    "# El siguiente ejemplo crea un arreglo de Numpy con 2 dimensiones:\n",
    "arr = np.array([[1, 2, 3], [4, 5, 6]])\n",
    "print(arr)"
   ]
  },
  {
   "cell_type": "code",
   "execution_count": 11,
   "metadata": {},
   "outputs": [
    {
     "name": "stdout",
     "output_type": "stream",
     "text": [
      "1\n"
     ]
    }
   ],
   "source": [
    "## Acceso a elementos de un arreglo\n",
    "# Se puede acceder a los elementos de un arreglo de Numpy utilizando índices.\n",
    "# El siguiente ejemplo accede al primer elemento de un arreglo de Numpy:\n",
    "arr = np.array([1, 2, 3, 4, 5])\n",
    "print(arr[0])"
   ]
  },
  {
   "cell_type": "code",
   "execution_count": 12,
   "metadata": {},
   "outputs": [
    {
     "name": "stdout",
     "output_type": "stream",
     "text": [
      "6\n"
     ]
    }
   ],
   "source": [
    "# Acceder a elementos de un arreglo de Numpy con 2 dimensiones\n",
    "# Se puede acceder a los elementos de un arreglo de Numpy con 2 dimensiones utilizando índices.\n",
    "# El siguiente ejemplo accede al elemento en la segunda fila y la tercera columna de un arreglo de Numpy con 2 dimensiones:\n",
    "arr = np.array([[1, 2, 3], [4, 5, 6]])\n",
    "print(arr[1, 2])"
   ]
  },
  {
   "cell_type": "code",
   "execution_count": 13,
   "metadata": {},
   "outputs": [
    {
     "name": "stdout",
     "output_type": "stream",
     "text": [
      "12\n"
     ]
    }
   ],
   "source": [
    "# Acceder a elementos de un arreglo de Numpy con 3 dimensiones\n",
    "# Se puede acceder a los elementos de un arreglo de Numpy con 3 dimensiones utilizando índices.\n",
    "# El siguiente ejemplo accede al elemento en la segunda dimensión, la segunda fila y la tercera columna de un arreglo de Numpy con 3 dimensiones:\n",
    "arr = np.array([[[1, 2, 3], [4, 5, 6]], [[7, 8, 9], [10, 11, 12]]])\n",
    "print(arr[1, 1, 2])"
   ]
  },
  {
   "cell_type": "code",
   "execution_count": 14,
   "metadata": {},
   "outputs": [
    {
     "name": "stdout",
     "output_type": "stream",
     "text": [
      "[2 3 4]\n"
     ]
    }
   ],
   "source": [
    "# Slice de un arreglo\n",
    "# Se puede acceder a un rango de elementos de un arreglo de Numpy utilizando slice.\n",
    "# El siguiente ejemplo accede a los elementos del segundo al cuarto elemento de un arreglo de Numpy:\n",
    "arr = np.array([1, 2, 3, 4, 5])\n",
    "print(arr[1:4])"
   ]
  },
  {
   "cell_type": "code",
   "execution_count": 15,
   "metadata": {},
   "outputs": [
    {
     "name": "stdout",
     "output_type": "stream",
     "text": [
      "[4 5]\n"
     ]
    }
   ],
   "source": [
    "# Slice de un arreglo de Numpy con 2 dimensiones\n",
    "# Se puede acceder a un rango de elementos de un arreglo de Numpy con 2 dimensiones utilizando slice.\n",
    "# El siguiente ejemplo accede a los elementos de la segunda fila del primer elemento al segundo elemento de un arreglo de Numpy con 2 dimensiones:\n",
    "arr = np.array([[1, 2, 3], [4, 5, 6]])\n",
    "print(arr[1, 0:2])\n"
   ]
  },
  {
   "cell_type": "code",
   "execution_count": 16,
   "metadata": {},
   "outputs": [
    {
     "name": "stdout",
     "output_type": "stream",
     "text": [
      "[10 11]\n"
     ]
    }
   ],
   "source": [
    "# Slice de un arreglo de Numpy con 3 dimensiones\n",
    "# Se puede acceder a un rango de elementos de un arreglo de Numpy con 3 dimensiones utilizando slice.\n",
    "# El siguiente ejemplo accede a los elementos de la segunda dimensión, la segunda fila del primer elemento al segundo elemento de un arreglo de Numpy con 3 dimensiones:\n",
    "arr = np.array([[[1, 2, 3], [4, 5, 6]], [[7, 8, 9], [10, 11, 12]]])\n",
    "print(arr[1, 1, 0:2])\n"
   ]
  },
  {
   "cell_type": "code",
   "execution_count": 17,
   "metadata": {},
   "outputs": [
    {
     "name": "stdout",
     "output_type": "stream",
     "text": [
      "[2 4]\n"
     ]
    }
   ],
   "source": [
    "# Dicing de un arreglo\n",
    "# Se puede acceder a un rango de elementos de un arreglo de Numpy utilizando dicing.\n",
    "# El siguiente ejemplo accede a los elementos de un arreglo de Numpy con un paso de 2:\n",
    "arr = np.array([1, 2, 3, 4, 5, 6, 7])\n",
    "print(arr[1:5:2])\n"
   ]
  },
  {
   "cell_type": "code",
   "execution_count": 18,
   "metadata": {},
   "outputs": [
    {
     "name": "stdout",
     "output_type": "stream",
     "text": [
      "[[1 3]\n",
      " [5 7]]\n"
     ]
    }
   ],
   "source": [
    "# Dicing de un arreglo de Numpy con 2 dimensiones\n",
    "# Se puede acceder a un rango de elementos de un arreglo de Numpy con 2 dimensiones utilizando dicing.\n",
    "# El siguiente ejemplo accede a los elementos de un arreglo de Numpy con 2 dimensiones con un paso de 2:\n",
    "arr = np.array([[1, 2, 3, 4], [5, 6, 7, 8]])\n",
    "print(arr[0:2, 0:4:2])"
   ]
  },
  {
   "cell_type": "code",
   "execution_count": 19,
   "metadata": {},
   "outputs": [
    {
     "name": "stdout",
     "output_type": "stream",
     "text": [
      "[5 7 9]\n"
     ]
    }
   ],
   "source": [
    "# Operaciones básicas de álgebra linea\n",
    "# Numpy proporciona funciones para realizar operaciones básicas de álgebra lineal. \n",
    "# El siguiente ejemplo suma dos arreglos de Numpy:\n",
    "arr1 = np.array([1, 2, 3])\n",
    "arr2 = np.array([4, 5, 6])\n",
    "arr = np.add(arr1, arr2)\n",
    "print(arr)"
   ]
  },
  {
   "cell_type": "code",
   "execution_count": 20,
   "metadata": {},
   "outputs": [
    {
     "name": "stdout",
     "output_type": "stream",
     "text": [
      "[5 7 9]\n"
     ]
    }
   ],
   "source": [
    "# De manera alternativa, se puede utilizar el operador + para sumar dos arreglos de Numpy:\n",
    "arr = arr1 + arr2\n",
    "print(arr)"
   ]
  },
  {
   "cell_type": "code",
   "execution_count": 21,
   "metadata": {},
   "outputs": [
    {
     "name": "stdout",
     "output_type": "stream",
     "text": [
      "[ 4 10 18]\n"
     ]
    }
   ],
   "source": [
    "# Multiplicación de arreglos\n",
    "# El siguiente ejemplo multiplica dos arreglos de Numpy:\n",
    "arr1 = np.array([1, 2, 3])\n",
    "arr2 = np.array([4, 5, 6])\n",
    "arr = np.multiply(arr1, arr2)\n",
    "print(arr)"
   ]
  },
  {
   "cell_type": "code",
   "execution_count": 22,
   "metadata": {},
   "outputs": [
    {
     "name": "stdout",
     "output_type": "stream",
     "text": [
      "[ 4 10 18]\n"
     ]
    }
   ],
   "source": [
    "# De manera alternativa, se puede utilizar el operador * para multiplicar dos arreglos de Numpy:\n",
    "arr = arr1 * arr2\n",
    "print(arr)"
   ]
  },
  {
   "cell_type": "code",
   "execution_count": 23,
   "metadata": {},
   "outputs": [
    {
     "name": "stdout",
     "output_type": "stream",
     "text": [
      "[-3 -3 -3]\n"
     ]
    }
   ],
   "source": [
    "# Resta de arreglos\n",
    "# El siguiente ejemplo resta dos arreglos de Numpy:\n",
    "arr1 = np.array([1, 2, 3])\n",
    "arr2 = np.array([4, 5, 6])\n",
    "arr = np.subtract(arr1, arr2)   \n",
    "print(arr)"
   ]
  },
  {
   "cell_type": "code",
   "execution_count": 24,
   "metadata": {},
   "outputs": [
    {
     "name": "stdout",
     "output_type": "stream",
     "text": [
      "[-3 -3 -3]\n"
     ]
    }
   ],
   "source": [
    "# De manera alternativa, se puede utilizar el operador - para restar dos arreglos de Numpy:\n",
    "arr = arr1 - arr2\n",
    "print(arr)"
   ]
  },
  {
   "cell_type": "code",
   "execution_count": 25,
   "metadata": {},
   "outputs": [
    {
     "name": "stdout",
     "output_type": "stream",
     "text": [
      "[0.25 0.4  0.5 ]\n"
     ]
    }
   ],
   "source": [
    "# División de arreglos\n",
    "# El siguiente ejemplo divide dos arreglos de Numpy:\n",
    "arr1 = np.array([1, 2, 3])\n",
    "arr2 = np.array([4, 5, 6])\n",
    "arr = np.divide(arr1, arr2)\n",
    "print(arr)\n"
   ]
  },
  {
   "cell_type": "code",
   "execution_count": 26,
   "metadata": {},
   "outputs": [
    {
     "name": "stdout",
     "output_type": "stream",
     "text": [
      "[0.25 0.4  0.5 ]\n"
     ]
    }
   ],
   "source": [
    "# De manera alternativa, se puede utilizar el operador / para dividir dos arreglos de Numpy:\n",
    "arr = arr1 / arr2\n",
    "print(arr)\n"
   ]
  },
  {
   "cell_type": "code",
   "execution_count": 27,
   "metadata": {},
   "outputs": [
    {
     "name": "stdout",
     "output_type": "stream",
     "text": [
      "15\n"
     ]
    }
   ],
   "source": [
    "## Agregaciones de arreglos\n",
    "# Numpy proporciona funciones para realizar operaciones de agregación en arreglos.\n",
    "# El siguiente ejemplo calcula la suma de los elementos de un arreglo de Numpy:\n",
    "arr = np.array([1, 2, 3, 4, 5])\n",
    "print(np.sum(arr))"
   ]
  },
  {
   "cell_type": "code",
   "execution_count": 28,
   "metadata": {},
   "outputs": [
    {
     "name": "stdout",
     "output_type": "stream",
     "text": [
      "21\n"
     ]
    }
   ],
   "source": [
    "# Calcular la suma de los elementos de un arreglo de Numpy con 2 dimensiones\n",
    "# El siguiente ejemplo calcula la suma de los elementos de un arreglo de Numpy con 2 dimensiones:\n",
    "arr = np.array([[1, 2, 3], [4, 5, 6]])\n",
    "print(np.sum(arr))  "
   ]
  },
  {
   "cell_type": "code",
   "execution_count": 29,
   "metadata": {},
   "outputs": [
    {
     "name": "stdout",
     "output_type": "stream",
     "text": [
      "[5 7 9]\n"
     ]
    }
   ],
   "source": [
    "# Calcular la suma de los elementos de un arreglo de Numpy con 2 dimensiones por columna\n",
    "# El siguiente ejemplo calcula la suma de los elementos de un arreglo de Numpy con 2 dimensiones por columna:\n",
    "arr = np.array([[1, 2, 3], [4, 5, 6]])\n",
    "print(np.sum(arr, axis=0))"
   ]
  },
  {
   "cell_type": "code",
   "execution_count": 30,
   "metadata": {},
   "outputs": [
    {
     "name": "stdout",
     "output_type": "stream",
     "text": [
      "[ 6 15]\n"
     ]
    }
   ],
   "source": [
    "# Calcular la suma de los elementos de un arreglo de Numpy con 2 dimensiones por fila\n",
    "# El siguiente ejemplo calcula la suma de los elementos de un arreglo de Numpy con 2 dimensiones por fila:\n",
    "arr = np.array([[1, 2, 3], [4, 5, 6]])\n",
    "print(np.sum(arr, axis=1))"
   ]
  },
  {
   "cell_type": "code",
   "execution_count": 31,
   "metadata": {},
   "outputs": [
    {
     "name": "stdout",
     "output_type": "stream",
     "text": [
      "3.0\n"
     ]
    }
   ],
   "source": [
    "# Calcular la media de los elementos de un arreglo de Numpy\n",
    "# El siguiente ejemplo calcula la media de los elementos de un arreglo de Numpy:\n",
    "arr = np.array([1, 2, 3, 4, 5])\n",
    "print(np.mean(arr))"
   ]
  },
  {
   "cell_type": "code",
   "execution_count": 32,
   "metadata": {},
   "outputs": [
    {
     "name": "stdout",
     "output_type": "stream",
     "text": [
      "3.5\n"
     ]
    }
   ],
   "source": [
    "# Calcular la media de los elementos de un arreglo de Numpy con 2 dimensiones\n",
    "# El siguiente ejemplo calcula la media de los elementos de un arreglo de Numpy con 2 dimensiones:\n",
    "arr = np.array([[1, 2, 3], [4, 5, 6]])\n",
    "print(np.mean(arr))\n"
   ]
  },
  {
   "cell_type": "code",
   "execution_count": 33,
   "metadata": {},
   "outputs": [
    {
     "name": "stdout",
     "output_type": "stream",
     "text": [
      "[2.5 3.5 4.5]\n"
     ]
    }
   ],
   "source": [
    "# Calcular la media de los elementos de un arreglo de Numpy con 2 dimensiones por columna\n",
    "# El siguiente ejemplo calcula la media de los elementos de un arreglo de Numpy con 2 dimensiones por columna:\n",
    "arr = np.array([[1, 2, 3], [4, 5, 6]])\n",
    "print(np.mean(arr, axis=0))\n"
   ]
  },
  {
   "cell_type": "code",
   "execution_count": 34,
   "metadata": {},
   "outputs": [
    {
     "name": "stdout",
     "output_type": "stream",
     "text": [
      "[2. 5.]\n"
     ]
    }
   ],
   "source": [
    "# Calcular la media de los elementos de un arreglo de Numpy con 2 dimensiones por fila\n",
    "# El siguiente ejemplo calcula la media de los elementos de un arreglo de Numpy con 2 dimensiones por fila:\n",
    "arr = np.array([[1, 2, 3], [4, 5, 6]])\n",
    "print(np.mean(arr, axis=1))"
   ]
  },
  {
   "cell_type": "code",
   "execution_count": 35,
   "metadata": {},
   "outputs": [
    {
     "name": "stdout",
     "output_type": "stream",
     "text": [
      "5\n"
     ]
    }
   ],
   "source": [
    "# Calcular el máximo de los elementos de un arreglo de Numpy\n",
    "# El siguiente ejemplo calcula el máximo de los elementos de un arreglo de Numpy:\n",
    "arr = np.array([1, 2, 3, 4, 5])\n",
    "print(np.max(arr))\n"
   ]
  },
  {
   "cell_type": "code",
   "execution_count": 36,
   "metadata": {},
   "outputs": [
    {
     "name": "stdout",
     "output_type": "stream",
     "text": [
      "6\n"
     ]
    }
   ],
   "source": [
    "# Calcular el máximo de los elementos de un arreglo de Numpy con 2 dimensiones\n",
    "# El siguiente ejemplo calcula el máximo de los elementos de un arreglo de Numpy con 2 dimensiones:\n",
    "arr = np.array([[1, 2, 3], [4, 5, 6]])\n",
    "print(np.max(arr))"
   ]
  },
  {
   "cell_type": "code",
   "execution_count": 37,
   "metadata": {},
   "outputs": [
    {
     "name": "stdout",
     "output_type": "stream",
     "text": [
      "[4 5 6]\n"
     ]
    }
   ],
   "source": [
    "# Calcular el máximo de los elementos de un arreglo de Numpy con 2 dimensiones por columna\n",
    "# El siguiente ejemplo calcula el máximo de los elementos de un arreglo de Numpy con 2 dimensiones por columna:\n",
    "arr = np.array([[1, 2, 3], [4, 5, 6]])\n",
    "print(np.max(arr, axis=0))"
   ]
  },
  {
   "cell_type": "code",
   "execution_count": 38,
   "metadata": {},
   "outputs": [
    {
     "name": "stdout",
     "output_type": "stream",
     "text": [
      "[3 6]\n"
     ]
    }
   ],
   "source": [
    "# Calcular el máximo de los elementos de un arreglo de Numpy con 2 dimensiones por fila\n",
    "# El siguiente ejemplo calcula el máximo de los elementos de un arreglo de Numpy con 2 dimensiones por fila:\n",
    "arr = np.array([[1, 2, 3], [4, 5, 6]])\n",
    "print(np.max(arr, axis=1))"
   ]
  },
  {
   "cell_type": "code",
   "execution_count": 39,
   "metadata": {},
   "outputs": [
    {
     "name": "stdout",
     "output_type": "stream",
     "text": [
      "[2 3 4 5 6]\n"
     ]
    }
   ],
   "source": [
    "# Operaciones de broadcasting\n",
    "# Numpy proporciona funciones para realizar operaciones de broadcasting en arreglos.\n",
    "# El broadcasting permite realizar operaciones entre arreglos de diferentes formas.\n",
    "# El siguiente ejemplo suma un escalar a un arreglo de Numpy:\n",
    "arr = np.array([1, 2, 3, 4, 5])\n",
    "print(arr + 1)\n"
   ]
  },
  {
   "cell_type": "code",
   "execution_count": 40,
   "metadata": {},
   "outputs": [
    {
     "name": "stdout",
     "output_type": "stream",
     "text": [
      "[ 2  4  6  8 10]\n"
     ]
    }
   ],
   "source": [
    "# El siguiente ejemplo suma un arreglo de Numpy a otro arreglo de Numpy:\n",
    "arr1 = np.array([1, 2, 3, 4, 5])\n",
    "arr2 = np.array([1, 2, 3, 4, 5])\n",
    "print(arr1 + arr2)\n"
   ]
  },
  {
   "cell_type": "code",
   "execution_count": 41,
   "metadata": {},
   "outputs": [
    {
     "name": "stdout",
     "output_type": "stream",
     "text": [
      "[[2 4 6]\n",
      " [5 7 9]]\n"
     ]
    }
   ],
   "source": [
    "# El siguiente ejemplo suma un arreglo de Numpy con 2 dimensiones a otro arreglo de Numpy con 1 dimensión:\n",
    "arr1 = np.array([[1, 2, 3], [4, 5, 6]])\n",
    "arr2 = np.array([1, 2, 3])\n",
    "print(arr1 + arr2)"
   ]
  },
  {
   "cell_type": "code",
   "execution_count": null,
   "metadata": {},
   "outputs": [],
   "source": []
  }
 ],
 "metadata": {
  "kernelspec": {
   "display_name": "machine_learning",
   "language": "python",
   "name": "python3"
  },
  "language_info": {
   "codemirror_mode": {
    "name": "ipython",
    "version": 3
   },
   "file_extension": ".py",
   "mimetype": "text/x-python",
   "name": "python",
   "nbconvert_exporter": "python",
   "pygments_lexer": "ipython3",
   "version": "3.11.5"
  }
 },
 "nbformat": 4,
 "nbformat_minor": 2
}
