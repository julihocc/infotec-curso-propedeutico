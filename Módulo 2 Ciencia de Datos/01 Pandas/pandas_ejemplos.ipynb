{
 "cells": [
  {
   "cell_type": "code",
   "execution_count": 1,
   "metadata": {
    "ExecuteTime": {
     "end_time": "2023-09-21T02:38:06.456241Z",
     "start_time": "2023-09-21T02:38:06.448864700Z"
    },
    "collapsed": true
   },
   "outputs": [],
   "source": [
    "import pandas as pd"
   ]
  },
  {
   "cell_type": "code",
   "execution_count": 2,
   "metadata": {
    "ExecuteTime": {
     "end_time": "2023-09-21T02:38:06.473273700Z",
     "start_time": "2023-09-21T02:38:06.453863800Z"
    },
    "collapsed": false
   },
   "outputs": [
    {
     "name": "stdout",
     "output_type": "stream",
     "text": [
      "0    1\n",
      "1    2\n",
      "2    3\n",
      "3    4\n",
      "4    5\n",
      "dtype: int64\n"
     ]
    }
   ],
   "source": [
    "# Create a Series with some data\n",
    "data = [1, 2, 3, 4, 5]\n",
    "\n",
    "# Create a Series\n",
    "s = pd.Series(data)\n",
    "\n",
    "# Print the Series\n",
    "print(s)"
   ]
  },
  {
   "cell_type": "code",
   "execution_count": 3,
   "metadata": {
    "ExecuteTime": {
     "end_time": "2023-09-21T02:38:06.563163600Z",
     "start_time": "2023-09-21T02:38:06.473273700Z"
    },
    "collapsed": false
   },
   "outputs": [
    {
     "name": "stdout",
     "output_type": "stream",
     "text": [
      "         name  age         city\n",
      "0    John Doe   30     New York\n",
      "1    Jane Doe   25  Los Angeles\n",
      "2  John Smith   40      Chicago\n"
     ]
    }
   ],
   "source": [
    "# Create a DataFrame with some data\n",
    "data = {\n",
    "    \"name\": [\"John Doe\", \"Jane Doe\", \"John Smith\"],\n",
    "    \"age\": [30, 25, 40],\n",
    "    \"city\": [\"New York\", \"Los Angeles\", \"Chicago\"],\n",
    "}\n",
    "\n",
    "# Create a DataFrame\n",
    "df = pd.DataFrame(data)\n",
    "\n",
    "# Print the DataFrame\n",
    "print(df)\n"
   ]
  },
  {
   "cell_type": "markdown",
   "metadata": {
    "collapsed": false
   },
   "source": [
    "## Archivos CSV\n"
   ]
  },
  {
   "cell_type": "code",
   "execution_count": 4,
   "metadata": {
    "ExecuteTime": {
     "end_time": "2023-09-21T02:38:06.687855900Z",
     "start_time": "2023-09-21T02:38:06.521724900Z"
    },
    "collapsed": false
   },
   "outputs": [
    {
     "name": "stdout",
     "output_type": "stream",
     "text": [
      "   Unnamed: 0        nombre  edad     ciudad\n",
      "0           0      Juan Doe    30     Madrid\n",
      "1           1   María Pérez    25  Barcelona\n",
      "2           2  Pedro García    40   Valencia\n"
     ]
    }
   ],
   "source": [
    "# Importar la biblioteca Pandas\n",
    "import pandas as pd\n",
    "\n",
    "# Generar datos\n",
    "data = {\n",
    "    \"nombre\": [\"Juan Doe\", \"María Pérez\", \"Pedro García\"],\n",
    "    \"edad\": [30, 25, 40],\n",
    "    \"ciudad\": [\"Madrid\", \"Barcelona\", \"Valencia\"],\n",
    "}\n",
    "\n",
    "# Crear un DataFrame\n",
    "df = pd.DataFrame(data)\n",
    "\n",
    "# Escribir el DataFrame en un archivo CSV\n",
    "df.to_csv(\"data.csv\")\n",
    "\n",
    "# Leer el archivo CSV\n",
    "df = pd.read_csv(\"data.csv\")\n",
    "\n",
    "# Explorar los datos\n",
    "print(df.head())"
   ]
  },
  {
   "cell_type": "code",
   "execution_count": 5,
   "metadata": {
    "ExecuteTime": {
     "end_time": "2023-09-21T02:38:06.688865800Z",
     "start_time": "2023-09-21T02:38:06.587944600Z"
    },
    "collapsed": false
   },
   "outputs": [
    {
     "name": "stdout",
     "output_type": "stream",
     "text": [
      "31.666666666666668\n"
     ]
    }
   ],
   "source": [
    "\n",
    "# Calcular la media de la columna \"edad\"\n",
    "media = df[\"edad\"].mean()\n",
    "print(media)"
   ]
  },
  {
   "cell_type": "code",
   "execution_count": 6,
   "metadata": {
    "ExecuteTime": {
     "end_time": "2023-09-21T02:38:06.689866Z",
     "start_time": "2023-09-21T02:38:06.597194700Z"
    },
    "collapsed": false
   },
   "outputs": [
    {
     "name": "stdout",
     "output_type": "stream",
     "text": [
      "30.0\n"
     ]
    }
   ],
   "source": [
    "\n",
    "# Calcular la mediana de la columna \"edad\"\n",
    "mediana = df[\"edad\"].median()\n",
    "print(mediana)"
   ]
  },
  {
   "cell_type": "code",
   "execution_count": 7,
   "metadata": {
    "ExecuteTime": {
     "end_time": "2023-09-21T02:38:06.689866Z",
     "start_time": "2023-09-21T02:38:06.621474Z"
    },
    "collapsed": false
   },
   "outputs": [
    {
     "name": "stdout",
     "output_type": "stream",
     "text": [
      "7.637626158259733\n"
     ]
    }
   ],
   "source": [
    "# Calcular la desviación estándar de la columna \"edad\"\n",
    "desviacion_estandar = df[\"edad\"].std()\n",
    "print(desviacion_estandar)\n"
   ]
  },
  {
   "cell_type": "markdown",
   "metadata": {
    "collapsed": false
   },
   "source": [
    "## Excel"
   ]
  },
  {
   "cell_type": "code",
   "execution_count": 8,
   "metadata": {
    "ExecuteTime": {
     "end_time": "2023-09-21T02:38:12.095837500Z",
     "start_time": "2023-09-21T02:38:06.640562100Z"
    },
    "collapsed": false
   },
   "outputs": [
    {
     "name": "stdout",
     "output_type": "stream",
     "text": [
      "Requirement already satisfied: openpyxl in c:\\users\\julih\\anaconda3\\envs\\courses\\lib\\site-packages (3.1.2)\n",
      "Requirement already satisfied: et-xmlfile in c:\\users\\julih\\anaconda3\\envs\\courses\\lib\\site-packages (from openpyxl) (1.1.0)\n"
     ]
    }
   ],
   "source": [
    "# Importar la biblioteca Pandas\n",
    "import pandas as pd\n",
    "\n",
    "# Generar datos\n",
    "data = {\n",
    "    \"nombre\": [\"Juan Doe\", \"María Pérez\", \"Pedro García\"],\n",
    "    \"edad\": [30, 25, 40],\n",
    "    \"ciudad\": [\"Madrid\", \"Barcelona\", \"Valencia\"],\n",
    "}\n",
    "\n",
    "# Crear un DataFrame\n",
    "df = pd.DataFrame(data)\n",
    "\n",
    "# Escribir el DataFrame en un archivo Excel\n",
    "!pip install openpyxl\n",
    "df.to_excel(\"data.xlsx\")"
   ]
  },
  {
   "cell_type": "code",
   "execution_count": 9,
   "metadata": {
    "ExecuteTime": {
     "end_time": "2023-09-21T02:38:12.139086400Z",
     "start_time": "2023-09-21T02:38:12.097842600Z"
    },
    "collapsed": false
   },
   "outputs": [
    {
     "name": "stdout",
     "output_type": "stream",
     "text": [
      "       Fecha   Nombre  Cantidad\n",
      "0 2023-01-01  Armando         1\n",
      "1 2023-01-02  Beatriz         2\n",
      "2 2023-01-03   Carlos         4\n",
      "3 2023-01-04  Dariana         8\n",
      "4 2023-01-05  Esteban        16\n"
     ]
    }
   ],
   "source": [
    "\n",
    "# Leer el archivo Excel\n",
    "df = pd.read_excel(\"hoja_calculo_ejemplo.xlsx\")\n",
    "\n",
    "# Explorar los datos\n",
    "print(df.head())"
   ]
  },
  {
   "cell_type": "code",
   "execution_count": 10,
   "metadata": {
    "ExecuteTime": {
     "end_time": "2023-09-21T02:38:12.146826200Z",
     "start_time": "2023-09-21T02:38:12.144263400Z"
    },
    "collapsed": false
   },
   "outputs": [
    {
     "name": "stdout",
     "output_type": "stream",
     "text": [
      "6.2\n"
     ]
    }
   ],
   "source": [
    "\n",
    "# Calcular la media de la columna \"edad\"\n",
    "media = df[\"Cantidad\"].mean()\n",
    "print(media)"
   ]
  },
  {
   "cell_type": "code",
   "execution_count": 11,
   "metadata": {
    "ExecuteTime": {
     "end_time": "2023-09-21T02:38:12.224696700Z",
     "start_time": "2023-09-21T02:38:12.147825900Z"
    },
    "collapsed": false
   },
   "outputs": [
    {
     "name": "stdout",
     "output_type": "stream",
     "text": [
      "4.0\n"
     ]
    }
   ],
   "source": [
    "\n",
    "# Calcular la mediana de la columna \"edad\"\n",
    "mediana = df[\"Cantidad\"].median()\n",
    "print(mediana)"
   ]
  },
  {
   "cell_type": "code",
   "execution_count": 12,
   "metadata": {
    "ExecuteTime": {
     "end_time": "2023-09-21T02:38:12.225704700Z",
     "start_time": "2023-09-21T02:38:12.165646400Z"
    },
    "collapsed": false
   },
   "outputs": [
    {
     "name": "stdout",
     "output_type": "stream",
     "text": [
      "6.099180272790763\n"
     ]
    }
   ],
   "source": [
    "\n",
    "# Calcular la desviación estándar de la columna \"edad\"\n",
    "desviacion_estandar = df[\"Cantidad\"].std()\n",
    "print(desviacion_estandar)\n"
   ]
  }
 ],
 "metadata": {
  "kernelspec": {
   "display_name": "Python 3",
   "language": "python",
   "name": "python3"
  },
  "language_info": {
   "codemirror_mode": {
    "name": "ipython",
    "version": 2
   },
   "file_extension": ".py",
   "mimetype": "text/x-python",
   "name": "python",
   "nbconvert_exporter": "python",
   "pygments_lexer": "ipython2",
   "version": "2.7.6"
  }
 },
 "nbformat": 4,
 "nbformat_minor": 0
}
