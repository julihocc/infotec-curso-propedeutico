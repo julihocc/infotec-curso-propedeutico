{
 "cells": [
  {
   "cell_type": "code",
   "execution_count": 37,
   "metadata": {},
   "outputs": [
    {
     "name": "stdout",
     "output_type": "stream",
     "text": [
      "5\n"
     ]
    }
   ],
   "source": [
    "# Conceptos básicos de Python\n",
    "\n",
    "## Variables\n",
    "\n",
    "# Una variable es un espacio en memoria que se utiliza para almacenar un valor.\n",
    "# En Python, las variables no necesitan ser declaradas con un tipo específico\n",
    "# y pueden incluso cambiar de tipo después de haber sido creadas.\n",
    "\n",
    "# Para asignar un valor a una variable, se utiliza el operador de asignación `=`.\n",
    "# Por ejemplo, para asignar el valor `5` a la variable `x`, se escribe `x = 5`.\n",
    "\n",
    "x = 5\n",
    "\n",
    "# Para imprimir el valor de una variable, se utiliza la función `print`.\n",
    "print(x)  # Imprime `5`"
   ]
  },
  {
   "cell_type": "code",
   "execution_count": 38,
   "metadata": {},
   "outputs": [
    {
     "name": "stdout",
     "output_type": "stream",
     "text": [
      "10\n"
     ]
    }
   ],
   "source": [
    "\n",
    "# Para cambiar el valor de una variable, simplemente se asigna un nuevo valor.\n",
    "x = 10\n",
    "print(x)  # Imprime `10`\n"
   ]
  },
  {
   "cell_type": "code",
   "execution_count": 39,
   "metadata": {},
   "outputs": [
    {
     "name": "stdout",
     "output_type": "stream",
     "text": [
      "Hola, mundo!\n"
     ]
    }
   ],
   "source": [
    "\n",
    "# Las variables pueden ser de cualquier tipo, incluyendo números, cadenas de texto,\n",
    "# listas, diccionarios, etc.\n",
    "y = \"Hola, mundo!\"\n",
    "print(y)  # Imprime `Hola, mundo!`\n"
   ]
  },
  {
   "cell_type": "code",
   "execution_count": 40,
   "metadata": {},
   "outputs": [
    {
     "name": "stdout",
     "output_type": "stream",
     "text": [
      "<class 'int'>\n",
      "<class 'str'>\n"
     ]
    }
   ],
   "source": [
    "\n",
    "# Python es un lenguaje de tipado dinámico, lo que significa que el tipo de una\n",
    "# variable es inferido automáticamente en tiempo de ejecución. Por ejemplo, si\n",
    "# se asigna un número entero a una variable, el tipo de la variable será `int`.\n",
    "# Si se asigna una cadena de texto, el tipo será `str`.\n",
    "print(type(x))  # Imprime `<class 'int'>`\n",
    "print(type(y))  # Imprime `<class 'str'>`\n"
   ]
  },
  {
   "cell_type": "code",
   "execution_count": 41,
   "metadata": {},
   "outputs": [
    {
     "name": "stdout",
     "output_type": "stream",
     "text": [
      "13\n"
     ]
    }
   ],
   "source": [
    "\n",
    "# Las variables también pueden ser asignadas a expresiones más complejas.\n",
    "z = x + 3\n",
    "print(z)  # Imprime `13`\n"
   ]
  },
  {
   "cell_type": "code",
   "execution_count": 42,
   "metadata": {},
   "outputs": [
    {
     "name": "stdout",
     "output_type": "stream",
     "text": [
      "3\n",
      "4\n"
     ]
    }
   ],
   "source": [
    "\n",
    "# Python también soporta múltiples asignaciones en una sola línea.\n",
    "a, b = 3, 4\n",
    "print(a)  # Imprime `3`\n",
    "print(b)  # Imprime `4`\n"
   ]
  },
  {
   "cell_type": "code",
   "execution_count": 43,
   "metadata": {},
   "outputs": [
    {
     "name": "stdout",
     "output_type": "stream",
     "text": [
      "Hola\n",
      "5\n"
     ]
    }
   ],
   "source": [
    "\n",
    "# Las variables pueden ser reasignadas a cualquier tipo de valor, incluso a\n",
    "# valores de tipos diferentes.\n",
    "a = \"Hola\"\n",
    "print(a)  # Imprime `Hola`\n",
    "a = 5\n",
    "print(a)  # Imprime `5`\n"
   ]
  },
  {
   "cell_type": "code",
   "execution_count": 44,
   "metadata": {},
   "outputs": [
    {
     "name": "stdout",
     "output_type": "stream",
     "text": [
      "name 'a' is not defined\n"
     ]
    }
   ],
   "source": [
    "\n",
    "# Las variables también pueden ser eliminadas utilizando la instrucción `del`.\n",
    "del a\n",
    "# print(a)  # Genera un error `NameError: name 'a' is not defined`\n",
    "try:\n",
    "    print(a)\n",
    "except NameError as e:\n",
    "    print(e)\n"
   ]
  },
  {
   "cell_type": "code",
   "execution_count": 45,
   "metadata": {},
   "outputs": [
    {
     "name": "stdout",
     "output_type": "stream",
     "text": [
      "False\n"
     ]
    }
   ],
   "source": [
    "\n",
    "## Booleanos\n",
    "\n",
    "# Los booleanos son un tipo de dato que puede tener uno de dos valores: `True` o `False`.\n",
    "# En Python, los booleanos se utilizan para evaluar condiciones y controlar el flujo de\n",
    "# un programa.\n",
    "\n",
    "# Los operadores de comparación se utilizan para comparar dos valores y devolver un booleano.\n",
    "# Por ejemplo, el operador `==` compara si dos valores son iguales.\n",
    "x = 5\n",
    "y = 10\n",
    "print(x == y)  # Imprime `False`\n"
   ]
  },
  {
   "cell_type": "code",
   "execution_count": 46,
   "metadata": {},
   "outputs": [
    {
     "name": "stdout",
     "output_type": "stream",
     "text": [
      "True\n",
      "True\n",
      "False\n",
      "True\n",
      "False\n"
     ]
    }
   ],
   "source": [
    "\n",
    "# Otros operadores de comparación son `!=` (diferente), `<` (menor que), `>` (mayor que),\n",
    "print(x != y)  # Imprime `True`\n",
    "print(x < y)  # Imprime `True`\n",
    "print(x > y)  # Imprime `False`\n",
    "print(x <= y)  # Imprime `True`\n",
    "print(x >= y)  # Imprime `False`\n"
   ]
  },
  {
   "cell_type": "code",
   "execution_count": 47,
   "metadata": {},
   "outputs": [
    {
     "name": "stdout",
     "output_type": "stream",
     "text": [
      "False\n",
      "True\n",
      "False\n"
     ]
    }
   ],
   "source": [
    "\n",
    "# Los operadores lógicos se utilizan para combinar expresiones booleanas. Los operadores\n",
    "# lógicos más comunes son `and` (y), `or` (o) y `not` (no).\n",
    "a = True\n",
    "b = False\n",
    "print(a and b)  # Imprime `False`\n",
    "print(a or b)  # Imprime `True`\n",
    "print(not a)  # Imprime `False`\n"
   ]
  },
  {
   "cell_type": "code",
   "execution_count": 48,
   "metadata": {},
   "outputs": [
    {
     "name": "stdout",
     "output_type": "stream",
     "text": [
      "¡Hola, mundo!\n"
     ]
    }
   ],
   "source": [
    "\n",
    "## Funciones\n",
    "\n",
    "# Una función es un bloque de código que realiza una tarea específica. En Python,\n",
    "# las funciones se definen utilizando la palabra clave `def`, seguida del nombre\n",
    "# de la función y una lista de parámetros entre paréntesis. El cuerpo de la función\n",
    "# está indentado y contiene las instrucciones que se ejecutarán cuando la función\n",
    "# sea llamada.\n",
    "\n",
    "\n",
    "# Por ejemplo, la siguiente función `saludar` imprime un mensaje de saludo.\n",
    "def saludar():\n",
    "    print(\"¡Hola, mundo!\")\n",
    "\n",
    "\n",
    "# Para llamar a una función, se utiliza su nombre seguido de paréntesis.\n",
    "saludar()  # Imprime `¡Hola, mundo!`\n"
   ]
  },
  {
   "cell_type": "code",
   "execution_count": 49,
   "metadata": {},
   "outputs": [
    {
     "name": "stdout",
     "output_type": "stream",
     "text": [
      "¡Hola, Juan!\n"
     ]
    }
   ],
   "source": [
    "\n",
    "\n",
    "# Las funciones pueden tener parámetros, que son valores que se pasan a la función\n",
    "# cuando es llamada. Los parámetros se colocan entre los paréntesis de la definición\n",
    "# de la función.\n",
    "def saludar_a(nombre):\n",
    "    print(f\"¡Hola, {nombre}!\")\n",
    "\n",
    "\n",
    "# Al llamar a la función `saludar_a`, se debe pasar un valor para el parámetro `nombre`.\n",
    "saludar_a(\"Juan\")  # Imprime `¡Hola, Juan!`\n"
   ]
  },
  {
   "cell_type": "code",
   "execution_count": 50,
   "metadata": {},
   "outputs": [
    {
     "name": "stdout",
     "output_type": "stream",
     "text": [
      "7\n"
     ]
    }
   ],
   "source": [
    "\n",
    "\n",
    "# Las funciones pueden devolver un valor utilizando la instrucción `return`. El valor\n",
    "# devuelto puede ser utilizado en otras partes del programa.\n",
    "def sumar(a, b):\n",
    "    return a + b\n",
    "\n",
    "\n",
    "# Al llamar a la función `sumar`, se obtiene el valor devuelto por la función.\n",
    "resultado = sumar(3, 4)\n",
    "print(resultado)  # Imprime `7`\n"
   ]
  },
  {
   "cell_type": "code",
   "execution_count": 51,
   "metadata": {},
   "outputs": [
    {
     "name": "stdout",
     "output_type": "stream",
     "text": [
      "8\n",
      "2\n"
     ]
    }
   ],
   "source": [
    "\n",
    "\n",
    "# Las funciones también pueden devolver múltiples valores, que se empaquetan en una tupla.\n",
    "def operaciones(a, b):\n",
    "    suma = a + b\n",
    "    resta = a - b\n",
    "    return suma, resta\n",
    "\n",
    "\n",
    "# Al llamar a la función `operaciones`, se obtiene una tupla con los valores devueltos.\n",
    "suma, resta = operaciones(5, 3)\n",
    "print(suma)  # Imprime `8`\n",
    "print(resta)  # Imprime `2`\n"
   ]
  },
  {
   "cell_type": "code",
   "execution_count": 52,
   "metadata": {},
   "outputs": [
    {
     "name": "stdout",
     "output_type": "stream",
     "text": [
      "¡Hola, mundo!\n",
      "¡Hola, Juan!\n"
     ]
    }
   ],
   "source": [
    "\n",
    "\n",
    "# Las funciones pueden tener valores por defecto para sus parámetros, lo que permite\n",
    "# llamar a la función sin pasar valores para esos parámetros. Si no se proporciona un\n",
    "# valor para un parámetro, se utilizará el valor por defecto.\n",
    "def saludar_defecto(nombre=\"mundo\"):\n",
    "    print(f\"¡Hola, {nombre}!\")\n",
    "\n",
    "\n",
    "# Al llamar a la función `saludar_defecto` sin pasar un valor para `nombre`, se utiliza\n",
    "# el valor por defecto.\n",
    "saludar_defecto()  # Imprime `¡Hola, mundo!`\n",
    "saludar_defecto(\"Juan\")  # Imprime `¡Hola, Juan!`\n"
   ]
  },
  {
   "cell_type": "code",
   "execution_count": 53,
   "metadata": {},
   "outputs": [
    {
     "name": "stdout",
     "output_type": "stream",
     "text": [
      "(1, 2, 3)\n",
      "{}\n",
      "()\n",
      "{'a': 1, 'b': 2, 'c': 3}\n",
      "(1, 2, 3)\n",
      "{'a': 1, 'b': 2, 'c': 3}\n",
      "()\n",
      "{}\n"
     ]
    }
   ],
   "source": [
    "\n",
    "\n",
    "# Las funciones pueden tener un número variable de argumentos utilizando `*args` y `**kwargs`.\n",
    "# Los argumentos variables se pueden utilizar para pasar un número variable de argumentos\n",
    "# a la función.\n",
    "def argumentos_variables(*args, **kwargs):\n",
    "    print(args)\n",
    "    print(kwargs)\n",
    "\n",
    "\n",
    "# Al llamar a la función `argumentos_variables`, se pueden pasar diferentes números de argumentos.\n",
    "argumentos_variables(1, 2, 3)  # Imprime `(1, 2, 3)` y `{}`\n",
    "argumentos_variables(a=1, b=2, c=3)  # Imprime `()` y `{'a': 1, 'b': 2, 'c': 3}`\n",
    "argumentos_variables(\n",
    "    1, 2, 3, a=1, b=2, c=3\n",
    ")  # Imprime `(1, 2, 3)` y `{'a': 1, 'b': 2, 'c': 3}`\n",
    "argumentos_variables()  # Imprime `()` y `{}`\n",
    "# argumentos_variables(a=1, b=2, 3)  # Genera un error `SyntaxError: positional argument follows keyword argument`\n"
   ]
  },
  {
   "cell_type": "code",
   "execution_count": 54,
   "metadata": {},
   "outputs": [
    {
     "name": "stdout",
     "output_type": "stream",
     "text": [
      "x es mayor que 5\n"
     ]
    }
   ],
   "source": [
    "\n",
    "## Condicionales\n",
    "\n",
    "# Los condicionales se utilizan para ejecutar cierto bloque de código si se cumple una\n",
    "# condición específica. En Python, los condicionales se definen utilizando las palabras\n",
    "# clave `if`, `elif` (else if) y `else`.\n",
    "\n",
    "# Por ejemplo, el siguiente condicional imprime un mensaje si el valor de `x` es mayor que 5.\n",
    "x = 10\n",
    "if x > 5:\n",
    "    print(\"x es mayor que 5\")\n"
   ]
  },
  {
   "cell_type": "code",
   "execution_count": 55,
   "metadata": {},
   "outputs": [
    {
     "name": "stdout",
     "output_type": "stream",
     "text": [
      "y es menor que 5\n"
     ]
    }
   ],
   "source": [
    "\n",
    "# Los condicionales pueden tener múltiples ramas utilizando `elif` y `else`.\n",
    "y = 3\n",
    "if y > 5:\n",
    "    print(\"y es mayor que 5\")\n",
    "elif y == 5:\n",
    "    print(\"y es igual a 5\")\n",
    "else:\n",
    "    print(\"y es menor que 5\")\n"
   ]
  },
  {
   "cell_type": "code",
   "execution_count": 56,
   "metadata": {},
   "outputs": [
    {
     "name": "stdout",
     "output_type": "stream",
     "text": [
      "z es mayor que 5 y menor que 10\n"
     ]
    }
   ],
   "source": [
    "\n",
    "# Los condicionales también pueden estar anidados, es decir, un condicional puede estar\n",
    "# dentro de otro condicional.\n",
    "z = 7\n",
    "if z > 5:\n",
    "    if z < 10:\n",
    "        print(\"z es mayor que 5 y menor que 10\")\n",
    "    else:\n",
    "        print(\"z es mayor que 5 pero no es menor que 10\")\n",
    "else:\n",
    "    print(\"z es menor que 5\")\n"
   ]
  },
  {
   "cell_type": "code",
   "execution_count": 57,
   "metadata": {},
   "outputs": [
    {
     "name": "stdout",
     "output_type": "stream",
     "text": [
      "1\n",
      "2\n",
      "3\n",
      "4\n",
      "5\n"
     ]
    }
   ],
   "source": [
    "\n",
    "## Bucles\n",
    "\n",
    "# Los bucles se utilizan para repetir un bloque de código varias veces. En Python, los\n",
    "# bucles más comunes son el bucle `for` y el bucle `while`.\n",
    "\n",
    "# El bucle `for` se utiliza para iterar sobre una secuencia de elementos, como una lista\n",
    "# o una tupla. Por ejemplo, el siguiente bucle imprime los números del 1 al 5.`\n",
    "for i in range(1, 6):\n",
    "    print(i)\n"
   ]
  },
  {
   "cell_type": "code",
   "execution_count": 58,
   "metadata": {},
   "outputs": [
    {
     "name": "stdout",
     "output_type": "stream",
     "text": [
      "1\n",
      "2\n",
      "3\n",
      "4\n",
      "5\n"
     ]
    }
   ],
   "source": [
    "\n",
    "# El bucle `while` se utiliza para repetir un bloque de código mientras se cumpla una\n",
    "# condición específica. Por ejemplo, el siguiente bucle imprime los números del 1 al 5.\n",
    "i = 1\n",
    "while i < 6:\n",
    "    print(i)\n",
    "    i += 1\n"
   ]
  },
  {
   "cell_type": "code",
   "execution_count": 59,
   "metadata": {},
   "outputs": [
    {
     "name": "stdout",
     "output_type": "stream",
     "text": [
      "1\n",
      "2\n",
      "3\n",
      "4\n"
     ]
    }
   ],
   "source": [
    "\n",
    "# Los bucles pueden tener instrucciones `break` y `continue`. La instrucción `break` se\n",
    "# utiliza para salir del bucle, mientras que la instrucción `continue` se utiliza para\n",
    "# pasar a la siguiente iteración del bucle.\n",
    "for i in range(1, 11):\n",
    "    if i == 5:\n",
    "        break\n",
    "    print(i)  # Imprime los números del 1 al 4\n"
   ]
  },
  {
   "cell_type": "code",
   "execution_count": 60,
   "metadata": {},
   "outputs": [
    {
     "name": "stdout",
     "output_type": "stream",
     "text": [
      "1\n",
      "2\n",
      "4\n",
      "5\n"
     ]
    }
   ],
   "source": [
    "\n",
    "for i in range(1, 6):\n",
    "    if i == 3:\n",
    "        continue\n",
    "    print(i)  # Imprime los números 1, 2, 4, 5\n"
   ]
  },
  {
   "cell_type": "code",
   "execution_count": 61,
   "metadata": {},
   "outputs": [
    {
     "name": "stdout",
     "output_type": "stream",
     "text": [
      "1\n",
      "2\n",
      "3\n"
     ]
    }
   ],
   "source": [
    "\n",
    "## Listas\n",
    "\n",
    "# Una lista es una colección ordenada de elementos que pueden ser de diferentes tipos.\n",
    "# En Python, las listas se definen utilizando corchetes `[]` y los elementos de la lista\n",
    "# se separan por comas.\n",
    "\n",
    "# Por ejemplo, la siguiente lista contiene los números del 1 al 5.\n",
    "numeros = [1, 2, 3, 4, 5]\n",
    "\n",
    "# Las listas pueden contener elementos de diferentes tipos.\n",
    "lista_mixta = [1, \"dos\", 3.0, True]\n",
    "\n",
    "# Las listas pueden ser anidadas, es decir, una lista puede contener otras listas.\n",
    "lista_anidada = [[1, 2, 3], [4, 5, 6], [7, 8, 9]]\n",
    "\n",
    "# Los elementos de una lista se pueden acceder utilizando su índice. El índice de un\n",
    "# elemento en una lista comienza en 0.\n",
    "print(numeros[0])  # Imprime `1`\n",
    "print(numeros[1])  # Imprime `2`\n",
    "print(numeros[2])  # Imprime `3`\n"
   ]
  },
  {
   "cell_type": "code",
   "execution_count": 62,
   "metadata": {},
   "outputs": [
    {
     "name": "stdout",
     "output_type": "stream",
     "text": [
      "10\n"
     ]
    }
   ],
   "source": [
    "\n",
    "# Los elementos de una lista también se pueden modificar asignando un nuevo valor al\n",
    "# índice correspondiente.\n",
    "numeros[0] = 10\n",
    "print(numeros[0])  # Imprime `10`\n"
   ]
  },
  {
   "cell_type": "code",
   "execution_count": 63,
   "metadata": {},
   "outputs": [
    {
     "name": "stdout",
     "output_type": "stream",
     "text": [
      "5\n"
     ]
    }
   ],
   "source": [
    "\n",
    "# Las listas tienen una longitud, que es el número de elementos que contienen. La longitud\n",
    "# de una lista se puede obtener utilizando la función `len`.\n",
    "print(len(numeros))  # Imprime `5`\n"
   ]
  },
  {
   "cell_type": "code",
   "execution_count": 64,
   "metadata": {},
   "outputs": [
    {
     "name": "stdout",
     "output_type": "stream",
     "text": [
      "[2, 3, 4]\n"
     ]
    }
   ],
   "source": [
    "\n",
    "# Las listas también pueden ser rebanadas, es decir, se pueden obtener subconjuntos de\n",
    "# elementos de una lista utilizando la notación `[inicio:fin]`.\n",
    "print(numeros[1:4])  # Imprime `[2, 3, 4]`\n"
   ]
  },
  {
   "cell_type": "code",
   "execution_count": 65,
   "metadata": {},
   "outputs": [
    {
     "name": "stdout",
     "output_type": "stream",
     "text": [
      "[10, 2, 3, 4, 5, 6]\n"
     ]
    }
   ],
   "source": [
    "\n",
    "# Las listas pueden ser extendidas utilizando el método `append`, que agrega un elemento al\n",
    "# final de la lista.\n",
    "numeros.append(6)\n",
    "print(numeros)  # Imprime `[10, 2, 3, 4, 5, 6]`\n"
   ]
  },
  {
   "cell_type": "code",
   "execution_count": 66,
   "metadata": {},
   "outputs": [
    {
     "name": "stdout",
     "output_type": "stream",
     "text": [
      "[10, 2, 3, 4, 5, 6, 7, 8, 9]\n"
     ]
    }
   ],
   "source": [
    "\n",
    "# Las listas pueden ser concatenadas utilizando el operador `+`.\n",
    "otra_lista = [7, 8, 9]\n",
    "concatenacion = numeros + otra_lista\n",
    "print(concatenacion)  # Imprime `[10, 2, 3, 4, 5, 6, 7, 8, 9]`\n"
   ]
  },
  {
   "cell_type": "code",
   "execution_count": 67,
   "metadata": {},
   "outputs": [
    {
     "name": "stdout",
     "output_type": "stream",
     "text": [
      "25\n",
      "30\n",
      "35\n"
     ]
    }
   ],
   "source": [
    "# Diccionarios\n",
    "\n",
    "# Un diccionario es una colección de pares clave-valor. En Python, los diccionarios se\n",
    "# definen utilizando llaves `{}` y los pares clave-valor se separan por comas.\n",
    "\n",
    "# Por ejemplo, el siguiente diccionario contiene los nombres de algunas personas y sus edades.\n",
    "personas = {\"Juan\": 25, \"María\": 30, \"Luis\": 35}\n",
    "\n",
    "# Los valores de un diccionario se pueden acceder utilizando su clave.\n",
    "print(personas[\"Juan\"])  # Imprime `25`\n",
    "print(personas[\"María\"])  # Imprime `30`\n",
    "print(personas[\"Luis\"])  # Imprime `35`\n"
   ]
  },
  {
   "cell_type": "code",
   "execution_count": 68,
   "metadata": {},
   "outputs": [
    {
     "name": "stdout",
     "output_type": "stream",
     "text": [
      "26\n"
     ]
    }
   ],
   "source": [
    "\n",
    "# Los valores de un diccionario también se pueden modificar asignando un nuevo valor a la clave correspondiente.\n",
    "personas[\"Juan\"] = 26\n",
    "print(personas[\"Juan\"])  # Imprime `26`\n"
   ]
  },
  {
   "cell_type": "code",
   "execution_count": 69,
   "metadata": {},
   "outputs": [
    {
     "name": "stdout",
     "output_type": "stream",
     "text": [
      "3\n"
     ]
    }
   ],
   "source": [
    "\n",
    "\n",
    "# Los diccionarios tienen una longitud, que es el número de pares clave-valor que contienen. La longitud de un diccionario se puede obtener utilizando la función `len`.\n",
    "print(len(personas))  # Imprime `3`\n"
   ]
  },
  {
   "cell_type": "code",
   "execution_count": 70,
   "metadata": {},
   "outputs": [
    {
     "name": "stdout",
     "output_type": "stream",
     "text": [
      "Juan 26\n",
      "María 30\n",
      "Luis 35\n"
     ]
    }
   ],
   "source": [
    "\n",
    "# Los diccionarios pueden ser iterados utilizando un bucle `for`. Por defecto, el bucle itera sobre las claves del diccionario.\n",
    "for nombre in personas:\n",
    "    print(nombre, personas[nombre])\n"
   ]
  },
  {
   "cell_type": "code",
   "execution_count": 71,
   "metadata": {},
   "outputs": [
    {
     "name": "stdout",
     "output_type": "stream",
     "text": [
      "Juan 26\n",
      "María 30\n",
      "Luis 35\n"
     ]
    }
   ],
   "source": [
    "\n",
    "# Los diccionarios también tienen un método `items` que devuelve una vista de los pares clave-valor del diccionario.\n",
    "for nombre, edad in personas.items():\n",
    "    print(nombre, edad)\n"
   ]
  },
  {
   "cell_type": "code",
   "execution_count": 72,
   "metadata": {},
   "outputs": [
    {
     "name": "stdout",
     "output_type": "stream",
     "text": [
      "{'Juan': 26, 'María': 30, 'Luis': 35, 'Ana': 40, 'Pedro': 45}\n"
     ]
    }
   ],
   "source": [
    "\n",
    "# Los diccionarios pueden ser extendidos utilizando el método `update`, que agrega los pares clave-valor de un diccionario a otro.\n",
    "otras_personas = {\"Ana\": 40, \"Pedro\": 45}\n",
    "\n",
    "personas.update(otras_personas)\n",
    "print(personas)"
   ]
  }
 ],
 "metadata": {
  "kernelspec": {
   "display_name": "machine_learning",
   "language": "python",
   "name": "python3"
  },
  "language_info": {
   "codemirror_mode": {
    "name": "ipython",
    "version": 3
   },
   "file_extension": ".py",
   "mimetype": "text/x-python",
   "name": "python",
   "nbconvert_exporter": "python",
   "pygments_lexer": "ipython3",
   "version": "3.11.5"
  }
 },
 "nbformat": 4,
 "nbformat_minor": 2
}
